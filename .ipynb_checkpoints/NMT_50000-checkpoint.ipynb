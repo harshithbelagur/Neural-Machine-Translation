{
 "cells": [
  {
   "cell_type": "code",
   "execution_count": 1,
   "metadata": {
    "colab": {
     "base_uri": "https://localhost:8080/",
     "height": 34
    },
    "colab_type": "code",
    "id": "THTght85XIW2",
    "outputId": "83e835a8-e687-4676-b62b-58171387ac18"
   },
   "outputs": [
    {
     "name": "stdout",
     "output_type": "stream",
     "text": [
      "TensorFlow 2.2.0\n"
     ]
    }
   ],
   "source": [
    "import os\n",
    "import pickle\n",
    "import numpy as np\n",
    "from tqdm import tqdm\n",
    "import tensorflow as tf\n",
    "import matplotlib.pyplot as plt\n",
    "import tensorflow_datasets as tfds\n",
    "from tensorflow.keras.preprocessing.text import Tokenizer\n",
    "from tensorflow.keras.preprocessing.sequence import pad_sequences\n",
    "from tensorflow.keras.layers import Embedding, GRU, Dense \n",
    "print('TensorFlow',tf.__version__)"
   ]
  },
  {
   "cell_type": "code",
   "execution_count": 2,
   "metadata": {
    "colab": {
     "base_uri": "https://localhost:8080/",
     "height": 54
    },
    "colab_type": "code",
    "id": "jcP-NJPQXLIY",
    "outputId": "27e490a6-f62f-4519-842a-b84b12d1083b"
   },
   "outputs": [
    {
     "name": "stdout",
     "output_type": "stream",
     "text": [
      "Drive already mounted at /content/drive; to attempt to forcibly remount, call drive.mount(\"/content/drive\", force_remount=True).\n"
     ]
    }
   ],
   "source": [
    "from google.colab import drive\n",
    "drive.mount('/content/drive')"
   ]
  },
  {
   "cell_type": "markdown",
   "metadata": {
    "colab_type": "text",
    "id": "jH6Ab9d_XIW6"
   },
   "source": [
    "## Loading the Dataset using tensorflow_datasets "
   ]
  },
  {
   "cell_type": "code",
   "execution_count": 0,
   "metadata": {
    "colab": {},
    "colab_type": "code",
    "id": "7tnjZje5XIW6"
   },
   "outputs": [],
   "source": [
    "NUM_SAMPLES = 50000\n",
    "dataset = tfds.load(name='wmt14_translate/fr-en', as_supervised=True, download=False, data_dir=\"/content/drive/My Drive\")\n",
    "dataset['train'] = dataset['train'].take(NUM_SAMPLES)"
   ]
  },
  {
   "cell_type": "markdown",
   "metadata": {
    "colab_type": "text",
    "id": "BYRfjxsSXIW9"
   },
   "source": [
    "## Adding Start and End Sequence Markers"
   ]
  },
  {
   "cell_type": "code",
   "execution_count": 4,
   "metadata": {
    "colab": {
     "base_uri": "https://localhost:8080/",
     "height": 68
    },
    "colab_type": "code",
    "id": "rBMci4f0XIW-",
    "outputId": "c1c4aef3-f6f0-44e3-c2ca-ce2a5dead4e1"
   },
   "outputs": [
    {
     "data": {
      "text/plain": [
       "{'test': <DatasetV1Adapter shapes: ((), ()), types: (tf.string, tf.string)>,\n",
       " 'train': <DatasetV1Adapter shapes: ((), ()), types: (tf.string, tf.string)>,\n",
       " 'validation': <DatasetV1Adapter shapes: ((), ()), types: (tf.string, tf.string)>}"
      ]
     },
     "execution_count": 4,
     "metadata": {
      "tags": []
     },
     "output_type": "execute_result"
    }
   ],
   "source": [
    "dataset"
   ]
  },
  {
   "cell_type": "code",
   "execution_count": 5,
   "metadata": {
    "colab": {
     "base_uri": "https://localhost:8080/",
     "height": 51
    },
    "colab_type": "code",
    "id": "-L_JqdEsXIXA",
    "outputId": "bb13c60b-2dac-44a6-c440-5433ad970f32"
   },
   "outputs": [
    {
     "name": "stderr",
     "output_type": "stream",
     "text": [
      "50000it [00:38, 1311.36it/s]\n",
      "3000it [00:01, 2162.05it/s]\n"
     ]
    }
   ],
   "source": [
    "en_sentences = []\n",
    "fr_sentences = []\n",
    "for example in tqdm(dataset['train']):\n",
    "    fr_sentences.append(example[0].numpy().decode())\n",
    "    en_sentences.append('startseq ' + example[1].numpy().decode() + ' endseq')\n",
    "for example in tqdm(dataset['validation']):\n",
    "    fr_sentences.append(example[0].numpy().decode())\n",
    "    en_sentences.append('startseq ' + example[1].numpy().decode() + ' endseq')    "
   ]
  },
  {
   "cell_type": "markdown",
   "metadata": {
    "colab_type": "text",
    "id": "4ZN_gvOJXIXD"
   },
   "source": [
    "## Tokenization"
   ]
  },
  {
   "cell_type": "code",
   "execution_count": 0,
   "metadata": {
    "colab": {},
    "colab_type": "code",
    "id": "MI6hAtCOXIXD"
   },
   "outputs": [],
   "source": [
    "en_tk = Tokenizer(num_words=30000)\n",
    "fr_tk = Tokenizer(num_words=30000)\n",
    "\n",
    "en_tk.fit_on_texts(en_sentences)\n",
    "fr_tk.fit_on_texts(fr_sentences)    "
   ]
  },
  {
   "cell_type": "markdown",
   "metadata": {
    "colab_type": "text",
    "id": "phv5_2BKXIXG"
   },
   "source": [
    "## Visualizing Sequence Lengths"
   ]
  },
  {
   "cell_type": "code",
   "execution_count": 7,
   "metadata": {
    "colab": {
     "base_uri": "https://localhost:8080/",
     "height": 547
    },
    "colab_type": "code",
    "id": "rRj9NOetXIXG",
    "outputId": "abc5a18b-7a91-49cf-aa2a-b31e52e2d88a"
   },
   "outputs": [
    {
     "name": "stdout",
     "output_type": "stream",
     "text": [
      "English sentences : mean = 28.058452830188678, std = 22.832614422791153, max = 742\n",
      "French sentences : mean = 26.56052830188679, std = 20.29882133635905, max = 693\n"
     ]
    },
    {
     "data": {
      "image/png": "[encoded data removed]",
      "text/plain": [
       "<Figure size 432x288 with 1 Axes>"
      ]
     },
     "metadata": {
      "needs_background": "light",
      "tags": []
     },
     "output_type": "display_data"
    },
    {
     "data": {
      "image/png": "[encoded data removed]",
      "text/plain": [
       "<Figure size 432x288 with 1 Axes>"
      ]
     },
     "metadata": {
      "needs_background": "light",
      "tags": []
     },
     "output_type": "display_data"
    }
   ],
   "source": [
    "en_lens = [len(x.split()) for x in en_sentences]\n",
    "fr_lens = [len(x.split()) for x in fr_sentences]\n",
    "\n",
    "plt.figure()\n",
    "plt.hist(en_lens)\n",
    "\n",
    "plt.figure()\n",
    "plt.hist(fr_lens)\n",
    "\n",
    "en_mean = np.mean(en_lens)\n",
    "en_std = np.std(en_lens)\n",
    "fr_mean = np.mean(fr_lens)\n",
    "fr_std = np.std(fr_lens)\n",
    "en_max = np.max(en_lens)\n",
    "fr_max = np.max(fr_lens)\n",
    "\n",
    "print(f'English sentences : mean = {en_mean}, std = {en_std}, max = {en_max}')\n",
    "print(f'French sentences : mean = {fr_mean}, std = {fr_std}, max = {fr_max}')"
   ]
  },
  {
   "cell_type": "code",
   "execution_count": 0,
   "metadata": {
    "colab": {},
    "colab_type": "code",
    "id": "OQXE3ghDXIXJ"
   },
   "outputs": [],
   "source": [
    "max_sequence_len = 30\n",
    "en_vocab_size = 30000\n",
    "fr_vocab_size = 30000"
   ]
  },
  {
   "cell_type": "markdown",
   "metadata": {
    "colab_type": "text",
    "id": "Mk6GS4ffXIXN"
   },
   "source": [
    "## Tokenization and Sequence Padding"
   ]
  },
  {
   "cell_type": "code",
   "execution_count": 0,
   "metadata": {
    "colab": {},
    "colab_type": "code",
    "id": "bDpyqJJ1XIXN"
   },
   "outputs": [],
   "source": [
    "def preprocess_en(en):\n",
    "    encoded_en = en_tk.texts_to_sequences(en)\n",
    "    padded_en = pad_sequences(encoded_en, maxlen=max_sequence_len, padding='post', truncating='post')\n",
    "    return padded_en\n",
    "\n",
    "def preprocess_fr(fr):\n",
    "    encoded_fr = fr_tk.texts_to_sequences(fr)\n",
    "    padded_fr = pad_sequences(encoded_fr, maxlen=max_sequence_len, padding='post', truncating='post')\n",
    "    return padded_fr\n",
    "\n",
    "def preprocess_text(en, fr):\n",
    "    return preprocess_en(en.numpy().decode()), preprocess_fr(fr.numpy().decode())"
   ]
  },
  {
   "cell_type": "markdown",
   "metadata": {
    "colab_type": "text",
    "id": "tnoe4jh2XIXQ"
   },
   "source": [
    "## Preparing Training Dataset"
   ]
  },
  {
   "cell_type": "code",
   "execution_count": 10,
   "metadata": {
    "colab": {
     "base_uri": "https://localhost:8080/",
     "height": 34
    },
    "colab_type": "code",
    "id": "gTGhJtroXIXQ",
    "outputId": "e62055b1-f3f4-4010-fb18-b22a38c1ba0b"
   },
   "outputs": [
    {
     "name": "stderr",
     "output_type": "stream",
     "text": [
      "50000it [00:12, 4146.40it/s]\n"
     ]
    }
   ],
   "source": [
    "train_ds = dataset['train']\n",
    "train_en = []\n",
    "train_fr = []\n",
    "for example in tqdm(train_ds):\n",
    "    train_fr.append(example[0].numpy().decode())\n",
    "    train_en.append('startseq ' + example[1].numpy().decode() + ' endseq')\n",
    "train_en = preprocess_en(train_en)\n",
    "train_fr = preprocess_fr(train_fr)\n",
    "\n",
    "batch_size = 80\n",
    "train_dataset = tf.data.Dataset.from_tensor_slices((train_fr, train_en))\n",
    "train_dataset = train_dataset.cache()\n",
    "train_dataset = train_dataset.shuffle(1024)\n",
    "train_dataset = train_dataset.batch(batch_size, drop_remainder=True)\n",
    "train_dataset = train_dataset.prefetch(tf.data.experimental.AUTOTUNE)"
   ]
  },
  {
   "cell_type": "markdown",
   "metadata": {
    "colab_type": "text",
    "id": "40iMs5x-XIXS"
   },
   "source": [
    "## Defining Encoder, Decoder, and Attention Models using tf.keras Model Subclassing"
   ]
  },
  {
   "cell_type": "code",
   "execution_count": 0,
   "metadata": {
    "colab": {},
    "colab_type": "code",
    "id": "JQUit8fYXIXT"
   },
   "outputs": [],
   "source": [
    "class Encoder(tf.keras.Model):\n",
    "    def __init__(self, hidden_size=1000, max_sequence_len=30, batch_size=batch_size, embedding_dim=620, vocab_size=30000):\n",
    "        super(Encoder, self).__init__()\n",
    "        self.embedding_dim = embedding_dim\n",
    "        self.vocab_size = vocab_size\n",
    "        self.max_sequence_len = max_sequence_len\n",
    "        self.hidden_size = hidden_size\n",
    "        self.batch_size = batch_size\n",
    "        self.initializer = tf.keras.initializers.RandomNormal(mean=0, stddev=0.001)\n",
    "        self.embedding_layer = Embedding(\n",
    "            input_dim=self.vocab_size, output_dim=self.embedding_dim)\n",
    "        self.GRU_1 = Bidirectional(GRU(units=hidden_size, return_sequences=True, return_state=True, kernel_initializer=self.initializer,\n",
    "                                       bias_initializer='zeros'))\n",
    "\n",
    "    def initial_hidden_state(self):\n",
    "        return [tf.zeros(shape=(self.batch_size, self.hidden_size),) for i in range(2)]\n",
    "\n",
    "    def call(self, x, initial_state, training=False):\n",
    "        x = self.embedding_layer(x)\n",
    "        x, hidden_state,_ = self.GRU_1(x, initial_state=initial_state)\n",
    "        return x, hidden_state\n",
    "\n",
    "\n",
    "class Attention(tf.keras.Model):\n",
    "    def __init__(self, hidden_size=256):\n",
    "        super(Attention, self).__init__()\n",
    "        self.initializer = tf.keras.initializers.RandomNormal(mean=0, stddev=0.001)\n",
    "        self.fc1 = Dense(units=hidden_size, kernel_initializer=self.initializer,\n",
    "                                       bias_initializer='zeros')\n",
    "        self.fc2 = Dense(units=hidden_size, kernel_initializer=self.initializer,\n",
    "                                       bias_initializer='zeros')\n",
    "        self.fc3 = Dense(units=1, kernel_initializer=self.initializer,\n",
    "                                       bias_initializer='zeros')\n",
    "\n",
    "    def call(self, encoder_output, hidden_state, training=False):\n",
    "        '''hidden_state : h(t-1)'''\n",
    "        y_hidden_state = tf.expand_dims(hidden_state, axis=1)\n",
    "        y_hidden_state = self.fc1(y_hidden_state)\n",
    "        y_enc_out = self.fc2(encoder_output)\n",
    "\n",
    "        y = tf.keras.backend.tanh(y_enc_out + y_hidden_state)\n",
    "        attention_score = self.fc3(y)\n",
    "        attention_weights = tf.keras.backend.softmax(attention_score, axis=1)\n",
    "\n",
    "        context_vector = tf.multiply(encoder_output, attention_weights)\n",
    "        context_vector = tf.reduce_sum(context_vector, axis=1)\n",
    "\n",
    "        return context_vector, attention_weights\n",
    "\n",
    "\n",
    "class Decoder(tf.keras.Model):\n",
    "    def __init__(self, hidden_size=1000, max_sequence_len=30, batch_size=batch_size, embedding_dim=620, vocab_size=30000):\n",
    "        super(Decoder, self).__init__()\n",
    "        self.embedding_dim = embedding_dim\n",
    "        self.vocab_size = vocab_size\n",
    "        self.max_sequence_len = max_sequence_len\n",
    "        self.hidden_size = hidden_size\n",
    "        self.batch_size = batch_size\n",
    "        self.initializer = tf.keras.initializers.RandomNormal(mean=0, stddev=0.001)\n",
    "        self.embedding_layer = Embedding(\n",
    "            input_dim=self.vocab_size, output_dim=self.embedding_dim)\n",
    "        self.GRU = GRU(units=hidden_size,\n",
    "                       return_sequences=True, return_state=True)\n",
    "        self.attention = Attention(hidden_size=self.hidden_size)\n",
    "        self.fc = Dense(units=self.vocab_size, kernel_initializer=self.initializer,\n",
    "                                       bias_initializer='zeros')\n",
    "\n",
    "    def initial_hidden_state(self):\n",
    "        return tf.zeros(shape=(self.batch_size, self.hidden_size))\n",
    "\n",
    "    def call(self, x, encoder_output, hidden_state, training=False):\n",
    "        x = self.embedding_layer(x)\n",
    "        context_vector, attention_weights = self.attention(\n",
    "            encoder_output, hidden_state, training=training)\n",
    "        contect_vector = tf.expand_dims(context_vector, axis=1)\n",
    "        x = tf.concat([x, contect_vector], axis=-1)\n",
    "        x, curr_hidden_state = self.GRU(x)\n",
    "        x = tf.reshape(x, shape=[self.batch_size, -1])\n",
    "        x = self.fc(x)\n",
    "        return x, curr_hidden_state, attention_weights"
   ]
  },
  {
   "cell_type": "markdown",
   "metadata": {
    "colab_type": "text",
    "id": "hN2okM_6XIXV"
   },
   "source": [
    "## Defining Training Loop, Loss Function and Optimizer"
   ]
  },
  {
   "cell_type": "code",
   "execution_count": 0,
   "metadata": {
    "colab": {},
    "colab_type": "code",
    "id": "6WKGy5HjXIXV"
   },
   "outputs": [],
   "source": [
    "loss_object = tf.losses.SparseCategoricalCrossentropy(from_logits=True)\n",
    "optimizer = tf.keras.optimizers.Adadelta(rho=0.95, epsilon=1e-06)\n",
    "train_accuracy = tf.metrics.SparseCategoricalAccuracy()\n",
    "\n",
    "\n",
    "def loss_function(y_true, y_pred):\n",
    "    loss = loss_object(y_true, y_pred)\n",
    "    mask = 1 - tf.cast(tf.equal(y_true, 0), 'float32')\n",
    "    return tf.reduce_mean(loss * mask)\n",
    "    \n",
    "@tf.function()\n",
    "def training_step(fr, en):    \n",
    "    with tf.GradientTape() as Tape:\n",
    "        encoder_init_state = encoder.initial_hidden_state()\n",
    "        encoder_output, encoder_hidden_state = encoder(fr, encoder_init_state, training=True)\n",
    "        decoder_hidden = encoder_hidden_state\n",
    "        loss = 0\n",
    "        acc = []\n",
    "        current_word = tf.expand_dims(en[:, 0], axis=1)\n",
    "        for word_idx in range(1, max_sequence_len):\n",
    "            next_word = en[:, word_idx]\n",
    "            logits, decoder_hidden, attention_weights = decoder(current_word, encoder_output, decoder_hidden, training=True)\n",
    "            loss += loss_function(next_word, logits)\n",
    "            acc.append(train_accuracy(next_word, logits))\n",
    "            current_word = tf.expand_dims(next_word, axis=1)\n",
    "    variables = encoder.trainable_variables + decoder.trainable_variables\n",
    "    gradients = Tape.gradient(loss, variables)\n",
    "    optimizer.apply_gradients(zip(gradients, variables))\n",
    "    return loss, tf.reduce_mean(acc)"
   ]
  },
  {
   "cell_type": "code",
   "execution_count": 0,
   "metadata": {
    "colab": {},
    "colab_type": "code",
    "id": "F7mxPWNwXIXX"
   },
   "outputs": [],
   "source": [
    "encoder = Encoder()\n",
    "decoder = Decoder()\n",
    "checkpoint_dir = 'training'\n",
    "checkpoint_prefix = 'training/ckpt'\n",
    "checkpoint = tf.train.Checkpoint(optimizer=optimizer, encoder=encoder, decoder=decoder)"
   ]
  },
  {
   "cell_type": "markdown",
   "metadata": {
    "colab_type": "text",
    "id": "PUlvLQc5XIXZ"
   },
   "source": [
    "## Training the Model"
   ]
  },
  {
   "cell_type": "code",
   "execution_count": 14,
   "metadata": {
    "colab": {
     "base_uri": "https://localhost:8080/",
     "height": 564
    },
    "colab_type": "code",
    "id": "si-I8F6RXIXZ",
    "outputId": "144e22e7-a1e1-4573-a43f-fce0ac10cffd"
   },
   "outputs": [
    {
     "name": "stdout",
     "output_type": "stream",
     "text": [
      "Epoch 1/10\n",
      "781/781 [==============================] - 374s 479ms/batch - curr_loss: 3.8531 - curr_accuracy: 0.3456\n",
      "Metrics after epoch 1 : Loss => 3.830 | Accuracy => 0.312\n",
      "Epoch 2/10\n",
      "781/781 [==============================] - 341s 437ms/batch - curr_loss: 3.6635 - curr_accuracy: 0.3640\n",
      "Metrics after epoch 2 : Loss => 3.531 | Accuracy => 0.355\n",
      "Epoch 3/10\n",
      "781/781 [==============================] - 341s 437ms/batch - curr_loss: 3.3222 - curr_accuracy: 0.3765\n",
      "Metrics after epoch 3 : Loss => 3.320 | Accuracy => 0.370\n",
      "Epoch 4/10\n",
      "781/781 [==============================] - 343s 439ms/batch - curr_loss: 3.1869 - curr_accuracy: 0.3873\n",
      "Metrics after epoch 4 : Loss => 3.093 | Accuracy => 0.382\n",
      "Epoch 5/10\n",
      "781/781 [==============================] - 344s 440ms/batch - curr_loss: 2.8972 - curr_accuracy: 0.3969\n",
      "Metrics after epoch 5 : Loss => 2.879 | Accuracy => 0.392\n",
      "Epoch 6/10\n",
      "781/781 [==============================] - 343s 439ms/batch - curr_loss: 2.8654 - curr_accuracy: 0.4062\n",
      "Metrics after epoch 6 : Loss => 2.663 | Accuracy => 0.401\n",
      "Epoch 7/10\n",
      "781/781 [==============================] - 342s 438ms/batch - curr_loss: 2.6582 - curr_accuracy: 0.4151\n",
      "Metrics after epoch 7 : Loss => 2.462 | Accuracy => 0.411\n",
      "Epoch 8/10\n",
      "781/781 [==============================] - 345s 441ms/batch - curr_loss: 1.9064 - curr_accuracy: 0.4242\n",
      "Metrics after epoch 8 : Loss => 2.276 | Accuracy => 0.420\n",
      "Epoch 9/10\n",
      "781/781 [==============================] - 345s 441ms/batch - curr_loss: 2.2477 - curr_accuracy: 0.4337\n",
      "Metrics after epoch 9 : Loss => 2.100 | Accuracy => 0.429\n",
      "Epoch 10/10\n",
      "781/781 [==============================] - 339s 434ms/batch - curr_loss: 1.8755 - curr_accuracy: 0.4433\n",
      "Metrics after epoch 10 : Loss => 1.947 | Accuracy => 0.438\n"
     ]
    },
    {
     "data": {
      "text/plain": [
       "'training/ckpt-6'"
      ]
     },
     "execution_count": 14,
     "metadata": {
      "tags": []
     },
     "output_type": "execute_result"
    }
   ],
   "source": [
    "epochs = 10\n",
    "num_steps = NUM_SAMPLES // batch_size\n",
    "for epoch in range(1, epochs + 1):\n",
    "    print(f'Epoch {epoch}/{epochs}')\n",
    "    ep_loss = []\n",
    "    ep_acc = []\n",
    "    progbar = tf.keras.utils.Progbar(target=num_steps, stateful_metrics=[\n",
    "                                     'curr_loss', 'curr_accuracy'], unit_name='batch')\n",
    "\n",
    "    for step, example in enumerate(train_dataset):\n",
    "        fr = example[0]\n",
    "        en = example[1]\n",
    "        loss, acc = training_step(fr, en)\n",
    "        loss /= en.shape[1]\n",
    "        ep_loss.append(loss)\n",
    "        ep_acc.append(acc)\n",
    "        progbar.update(\n",
    "            step + 1, values=[('curr_loss', loss), ('curr_accuracy', acc)])\n",
    "\n",
    "    if epoch % 2 == 0:\n",
    "        checkpoint.save(file_prefix=checkpoint_prefix)\n",
    "    print(f'Metrics after epoch {epoch} : Loss => {np.mean(ep_loss):.3f} | Accuracy => {np.mean(ep_acc):.3f}')\n",
    "checkpoint.save(file_prefix=checkpoint_prefix)"
   ]
  },
  {
   "cell_type": "code",
   "execution_count": 15,
   "metadata": {
    "colab": {
     "base_uri": "https://localhost:8080/",
     "height": 34
    },
    "colab_type": "code",
    "id": "gLTmiJLXXIXc",
    "outputId": "47b7435c-0f92-4734-d147-734a2f8c2866"
   },
   "outputs": [
    {
     "data": {
      "text/plain": [
       "<tensorflow.python.training.tracking.util.CheckpointLoadStatus at 0x7f6a7c8cfa90>"
      ]
     },
     "execution_count": 15,
     "metadata": {
      "tags": []
     },
     "output_type": "execute_result"
    }
   ],
   "source": [
    "checkpoint.restore('training/ckpt-6')"
   ]
  },
  {
   "cell_type": "markdown",
   "metadata": {
    "colab_type": "text",
    "id": "tkhov8D2XIXd"
   },
   "source": [
    "## Inference Function"
   ]
  },
  {
   "cell_type": "code",
   "execution_count": 0,
   "metadata": {
    "colab": {},
    "colab_type": "code",
    "id": "XgMrF4OoXIXe"
   },
   "outputs": [],
   "source": [
    "def translate_sentence(sentence):\n",
    "    sentence = preprocess_en([sentence])\n",
    "    enc_init = tf.zeros(shape=[1, 1024])\n",
    "    enc_out, enc_hidden = encoder(sentence, enc_init)\n",
    "\n",
    "    decoder.batch_size = 1\n",
    "    fr_tk.index_word[0] = ''\n",
    "    decoded = []\n",
    "    att = []\n",
    "    current_word = tf.expand_dims([fr_tk.word_index['startseq']], axis=0) \n",
    "    decoder_hidden = enc_hidden\n",
    "    for word_idx in range(1, max_sequence_len):\n",
    "        logits, decoder_hidden, attention_weights = decoder(current_word, enc_out, decoder_hidden)\n",
    "        decoded_idx = np.argmax(logits)\n",
    "        if fr_tk.index_word[decoded_idx] == 'endseq':\n",
    "            break\n",
    "        decoded.append(fr_tk.index_word[decoded_idx])\n",
    "        att.append(attention_weights.numpy().squeeze())\n",
    "        current_word = tf.expand_dims([decoded_idx], axis=0)\n",
    "    return ' '.join(decoded), att"
   ]
  },
  {
   "cell_type": "markdown",
   "metadata": {
    "colab_type": "text",
    "id": "F13v9nDcXIXg"
   },
   "source": [
    "## Translating and Visualizing Attention Maps"
   ]
  },
  {
   "cell_type": "code",
   "execution_count": 17,
   "metadata": {
    "colab": {
     "base_uri": "https://localhost:8080/",
     "height": 1000
    },
    "colab_type": "code",
    "id": "rXcVts9TXIXh",
    "outputId": "50923891-81a3-43dd-9f0c-c011ecb400f6"
   },
   "outputs": [
    {
     "name": "stdout",
     "output_type": "stream",
     "text": [
      "EN :  There is a misunderstanding\n",
      "FR :  if the is why\n",
      "------------------------------\n",
      "EN :  what do you want ?\n",
      "FR :  you can be here\n",
      "------------------------------\n",
      "EN :  are you mad ?\n",
      "FR :  you are\n",
      "------------------------------\n",
      "EN :  state of the art\n",
      "FR :  435 of the passenger's court\n",
      "------------------------------\n",
      "EN :  the exam is going to be hard\n",
      "FR :  the same time to blame here\n",
      "------------------------------\n",
      "EN :  do you want to play with me ?\n",
      "FR :  you can have to make you really really really really really really really really really really really really really really really really really really really really really really really\n",
      "------------------------------\n",
      "EN :  i love you\n",
      "FR :  i do you\n",
      "------------------------------\n",
      "EN :  how are you doing ?\n",
      "FR :  thank you do you\n",
      "------------------------------\n",
      "EN :  i should tell you that i am quite dangerous\n",
      "FR :  i do you can contact\n",
      "------------------------------\n",
      "EN :  Do you have any idea of how to use it ?\n",
      "FR :  do you do you want to get to make to make you\n",
      "------------------------------\n"
     ]
    },
    {
     "data": {
      "text/plain": [
       "<Figure size 288x288 with 0 Axes>"
      ]
     },
     "metadata": {
      "tags": []
     },
     "output_type": "display_data"
    },
    {
     "data": {
      "image/png": "[encoded data removed]",
      "text/plain": [
       "<Figure size 288x288 with 1 Axes>"
      ]
     },
     "metadata": {
      "needs_background": "light",
      "tags": []
     },
     "output_type": "display_data"
    },
    {
     "data": {
      "text/plain": [
       "<Figure size 360x288 with 0 Axes>"
      ]
     },
     "metadata": {
      "tags": []
     },
     "output_type": "display_data"
    },
    {
     "data": {
      "image/png": "[encoded data removed]",
      "text/plain": [
       "<Figure size 360x288 with 1 Axes>"
      ]
     },
     "metadata": {
      "needs_background": "light",
      "tags": []
     },
     "output_type": "display_data"
    },
    {
     "data": {
      "text/plain": [
       "<Figure size 288x144 with 0 Axes>"
      ]
     },
     "metadata": {
      "tags": []
     },
     "output_type": "display_data"
    },
    {
     "data": {
      "image/png": "[encoded data removed]",
      "text/plain": [
       "<Figure size 576x288 with 1 Axes>"
      ]
     },
     "metadata": {
      "needs_background": "light",
      "tags": []
     },
     "output_type": "display_data"
    },
    {
     "data": {
      "text/plain": [
       "<Figure size 288x360 with 0 Axes>"
      ]
     },
     "metadata": {
      "tags": []
     },
     "output_type": "display_data"
    },
    {
     "data": {
      "image/png": "[encoded data removed]",
      "text/plain": [
       "<Figure size 288x360 with 1 Axes>"
      ]
     },
     "metadata": {
      "needs_background": "light",
      "tags": []
     },
     "output_type": "display_data"
    },
    {
     "data": {
      "text/plain": [
       "<Figure size 504x432 with 0 Axes>"
      ]
     },
     "metadata": {
      "tags": []
     },
     "output_type": "display_data"
    },
    {
     "data": {
      "image/png": "[encoded data removed]",
      "text/plain": [
       "<Figure size 336x288 with 1 Axes>"
      ]
     },
     "metadata": {
      "needs_background": "light",
      "tags": []
     },
     "output_type": "display_data"
    },
    {
     "data": {
      "text/plain": [
       "<Figure size 576x2088 with 0 Axes>"
      ]
     },
     "metadata": {
      "tags": []
     },
     "output_type": "display_data"
    },
    {
     "data": {
      "image/png": "[encoded data removed]",
      "text/plain": [
       "<Figure size 288x1044 with 1 Axes>"
      ]
     },
     "metadata": {
      "needs_background": "light",
      "tags": []
     },
     "output_type": "display_data"
    },
    {
     "data": {
      "text/plain": [
       "<Figure size 216x216 with 0 Axes>"
      ]
     },
     "metadata": {
      "tags": []
     },
     "output_type": "display_data"
    },
    {
     "data": {
      "image/png": "[encoded data removed]",
      "text/plain": [
       "<Figure size 288x288 with 1 Axes>"
      ]
     },
     "metadata": {
      "needs_background": "light",
      "tags": []
     },
     "output_type": "display_data"
    },
    {
     "data": {
      "text/plain": [
       "<Figure size 360x288 with 0 Axes>"
      ]
     },
     "metadata": {
      "tags": []
     },
     "output_type": "display_data"
    },
    {
     "data": {
      "image/png": "[encoded data removed]",
      "text/plain": [
       "<Figure size 360x288 with 1 Axes>"
      ]
     },
     "metadata": {
      "needs_background": "light",
      "tags": []
     },
     "output_type": "display_data"
    },
    {
     "data": {
      "text/plain": [
       "<Figure size 648x360 with 0 Axes>"
      ]
     },
     "metadata": {
      "tags": []
     },
     "output_type": "display_data"
    },
    {
     "data": {
      "image/png": "[encoded data removed]",
      "text/plain": [
       "<Figure size 518.4x288 with 1 Axes>"
      ]
     },
     "metadata": {
      "needs_background": "light",
      "tags": []
     },
     "output_type": "display_data"
    },
    {
     "data": {
      "text/plain": [
       "<Figure size 792x864 with 0 Axes>"
      ]
     },
     "metadata": {
      "tags": []
     },
     "output_type": "display_data"
    },
    {
     "data": {
      "image/png": "[encoded data removed]",
      "text/plain": [
       "<Figure size 288x314.182 with 1 Axes>"
      ]
     },
     "metadata": {
      "needs_background": "light",
      "tags": []
     },
     "output_type": "display_data"
    }
   ],
   "source": [
    "sentences = [\"il y a un malentendu\",\n",
    "             'que veux tu',\n",
    "             'es tu fou',\n",
    "             \"l'état de l'art\",\n",
    "             \"l'examen est difficile\", \n",
    "             'voulez vous jouer avec moi',\n",
    "             \"je t'aime\",\n",
    "             \"comment allez vous\",\n",
    "             'je dois vous dire que je suis très dangereux',\n",
    "             \"as tu une idée de comment l'utiliser\"]\n",
    "\n",
    "for inp_sentence in sentences:\n",
    "    inp_array = inp_sentence.split()\n",
    "    inp_len = len(inp_sentence.split())\n",
    "    trans_sentence, attention_weights = translate_sentence(inp_sentence)\n",
    "    trans_array = trans_sentence.split()\n",
    "    trans_len = len(trans_array)\n",
    "    attention_weights = np.array([x for x in attention_weights])\n",
    "    attention_weights = attention_weights[:trans_len,:inp_len]\n",
    "    plt.figure(figsize=(inp_len, trans_len))\n",
    "    plt.matshow(attention_weights)\n",
    "    plt.xticks(ticks=range(inp_len), labels=inp_array, rotation=90)\n",
    "    plt.yticks(ticks=range(trans_len), labels=trans_array)\n",
    "    print('FR : ', inp_sentence)\n",
    "    print('EN : ', trans_sentence)\n",
    "    print('-'*30)"
   ]
  },
  {
   "cell_type": "code",
   "execution_count": 0,
   "metadata": {
    "colab": {},
    "colab_type": "code",
    "id": "mVkebfP6XIXj"
   },
   "outputs": [],
   "source": []
  }
 ],
 "metadata": {
  "accelerator": "GPU",
  "colab": {
   "collapsed_sections": [],
   "name": "NMT-50000.ipynb",
   "provenance": [],
   "toc_visible": true
  },
  "kernelspec": {
   "display_name": "Python 3",
   "language": "python",
   "name": "python3"
  },
  "language_info": {
   "codemirror_mode": {
    "name": "ipython",
    "version": 3
   },
   "file_extension": ".py",
   "mimetype": "text/x-python",
   "name": "python",
   "nbconvert_exporter": "python",
   "pygments_lexer": "ipython3",
   "version": "3.7.6"
  }
 },
 "nbformat": 4,
 "nbformat_minor": 1
}
