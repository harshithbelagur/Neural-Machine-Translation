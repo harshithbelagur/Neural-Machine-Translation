{
 "cells": [
  {
   "cell_type": "markdown",
   "metadata": {
    "colab_type": "text",
    "id": "QznsGUAuxbc4"
   },
   "source": [
    "## Importing Libraries"
   ]
  },
  {
   "cell_type": "code",
   "execution_count": 1,
   "metadata": {
    "colab": {
     "base_uri": "https://localhost:8080/",
     "height": 34
    },
    "colab_type": "code",
    "id": "Lz_N7y7k5HOi",
    "outputId": "65de3e4d-3ead-4d91-f263-61ffad26a0ef"
   },
   "outputs": [
    {
     "name": "stdout",
     "output_type": "stream",
     "text": [
      "TensorFlow 2.1.0\n"
     ]
    }
   ],
   "source": [
    "import os\n",
    "import pickle\n",
    "import numpy as np\n",
    "from tqdm import tqdm\n",
    "import tensorflow as tf\n",
    "import matplotlib.pyplot as plt\n",
    "import tensorflow_datasets as tfds\n",
    "from tensorflow.keras.preprocessing.text import Tokenizer\n",
    "from tensorflow.keras.preprocessing.sequence import pad_sequences\n",
    "from tensorflow.keras.layers import Embedding, GRU, Dense \n",
    "print('TensorFlow',tf.__version__)"
   ]
  },
  {
   "cell_type": "markdown",
   "metadata": {
    "colab_type": "text",
    "id": "9sM7YbIRxaPu"
   },
   "source": [
    "## Connecting the Colab Notebook to Google Drive to access the Data and Save Checkpoints"
   ]
  },
  {
   "cell_type": "code",
   "execution_count": 2,
   "metadata": {
    "colab": {
     "base_uri": "https://localhost:8080/",
     "height": 34
    },
    "colab_type": "code",
    "id": "bDHTti385NJK",
    "outputId": "169e517f-2a56-4ee9-d078-fe15031aca6e"
   },
   "outputs": [
    {
     "name": "stdout",
     "output_type": "stream",
     "text": [
      "Drive already mounted at /content/drive; to attempt to forcibly remount, call drive.mount(\"/content/drive\", force_remount=True).\n"
     ]
    }
   ],
   "source": [
    "from google.colab import drive\n",
    "drive.mount('/content/drive')"
   ]
  },
  {
   "cell_type": "markdown",
   "metadata": {
    "colab_type": "text",
    "id": "KIQS5ybcxZjB"
   },
   "source": [
    "## Checking RAM and GPU Capacities"
   ]
  },
  {
   "cell_type": "code",
   "execution_count": 3,
   "metadata": {
    "colab": {
     "base_uri": "https://localhost:8080/",
     "height": 102
    },
    "colab_type": "code",
    "id": "IgB04IZ_KutF",
    "outputId": "64036253-2793-40c4-9e42-bee794b638fd"
   },
   "outputs": [
    {
     "name": "stdout",
     "output_type": "stream",
     "text": [
      "Requirement already satisfied: gputil in /usr/local/lib/python3.6/dist-packages (1.4.0)\n",
      "Requirement already satisfied: psutil in /usr/local/lib/python3.6/dist-packages (5.4.8)\n",
      "Requirement already satisfied: humanize in /usr/local/lib/python3.6/dist-packages (0.5.1)\n",
      "Gen RAM Free: 11.2 GB  | Proc size: 375.4 MB\n",
      "GPU RAM Free: 11441MB | Used: 0MB | Util   0% | Total 11441MB\n"
     ]
    }
   ],
   "source": [
    "# memory footprint support libraries/code\n",
    "!ln -sf /opt/bin/nvidia-smi /usr/bin/nvidia-smi\n",
    "!pip install gputil\n",
    "!pip install psutil\n",
    "!pip install humanize\n",
    "import psutil\n",
    "import humanize\n",
    "import os\n",
    "import GPUtil as GPU\n",
    "GPUs = GPU.getGPUs()\n",
    "# XXX: only one GPU on Colab and isn’t guaranteed\n",
    "gpu = GPUs[0]\n",
    "def printm():\n",
    " process = psutil.Process(os.getpid())\n",
    " print(\"Gen RAM Free: \" + humanize.naturalsize( psutil.virtual_memory().available ), \" | Proc size: \" + humanize.naturalsize( process.memory_info().rss))\n",
    " print(\"GPU RAM Free: {0:.0f}MB | Used: {1:.0f}MB | Util {2:3.0f}% | Total {3:.0f}MB\".format(gpu.memoryFree, gpu.memoryUsed, gpu.memoryUtil*100, gpu.memoryTotal))\n",
    "printm()"
   ]
  },
  {
   "cell_type": "markdown",
   "metadata": {
    "colab_type": "text",
    "id": "lxHog-gl2ldZ"
   },
   "source": [
    "# **Training**"
   ]
  },
  {
   "cell_type": "markdown",
   "metadata": {
    "colab_type": "text",
    "id": "ISDqPtzQ5HOm"
   },
   "source": [
    "## Loading the Dataset using tensorflow_datasets "
   ]
  },
  {
   "cell_type": "code",
   "execution_count": 0,
   "metadata": {
    "colab": {},
    "colab_type": "code",
    "id": "PBW0iX7_5HOn"
   },
   "outputs": [],
   "source": [
    "NUM_SAMPLES = 6400000\n",
    "dataset = tfds.load(name='wmt14_translate/fr-en', as_supervised=True, download=False, data_dir=\"/content/drive/My Drive\")\n",
    "dataset['train'] = dataset['train'].take(NUM_SAMPLES)"
   ]
  },
  {
   "cell_type": "markdown",
   "metadata": {
    "colab_type": "text",
    "id": "KtqatiFD5HOp"
   },
   "source": [
    "## Adding Start and End Sequence Markers"
   ]
  },
  {
   "cell_type": "code",
   "execution_count": 1,
   "metadata": {
    "colab": {
     "base_uri": "https://localhost:8080/",
     "height": 51
    },
    "colab_type": "code",
    "id": "HtqE1WEG5HOq",
    "outputId": "a24621af-46d4-4c4c-c848-379ed9828b16"
   },
   "outputs": [
    {
     "name": "stdout",
     "output_type": "stream",
     "text": [
      " \n"
     ]
    }
   ],
   "source": [
    "en_sentences = []\n",
    "fr_sentences = []\n",
    "for example in tqdm(dataset['train']):\n",
    "    en_sentences.append(example[0].numpy().decode())\n",
    "    fr_sentences.append('startseq ' + example[1].numpy().decode() + ' endseq')\n",
    "for example in tqdm(dataset['validation']):\n",
    "    en_sentences.append(example[0].numpy().decode())\n",
    "    fr_sentences.append('startseq ' + example[1].numpy().decode() + ' endseq')    "
   ]
  },
  {
   "cell_type": "markdown",
   "metadata": {
    "colab_type": "text",
    "id": "mqz4bMbh5HOt"
   },
   "source": [
    "## Tokenization"
   ]
  },
  {
   "cell_type": "code",
   "execution_count": 0,
   "metadata": {
    "colab": {},
    "colab_type": "code",
    "id": "GaTtOKk75HOt"
   },
   "outputs": [],
   "source": [
    "en_tk = Tokenizer(num_words=30000)\n",
    "fr_tk = Tokenizer(num_words=30000)\n",
    "   \n",
    "en_tk.fit_on_texts(en_sentences)\n",
    "fr_tk.fit_on_texts(fr_sentences)    "
   ]
  },
  {
   "cell_type": "markdown",
   "metadata": {
    "colab_type": "text",
    "id": "UMKTb-O85HOy"
   },
   "source": [
    "## Visualizing Sequence Lengths"
   ]
  },
  {
   "cell_type": "code",
   "execution_count": 7,
   "metadata": {
    "colab": {
     "base_uri": "https://localhost:8080/",
     "height": 569
    },
    "colab_type": "code",
    "id": "ADO5e5km5HOy",
    "outputId": "411cbf20-53e3-4775-87fb-39228c0650e1"
   },
   "outputs": [
    {
     "name": "stdout",
     "output_type": "stream",
     "text": [
      "English sentences : mean = 28.57567624102404, std = 26.186013960097267, max = 9139\n",
      "French sentences : mean = 26.956515766468936, std = 22.07819301437233, max = 8466\n"
     ]
    },
    {
     "data": {
      "image/png": "[encoded data removed]",
      "text/plain": [
       "<Figure size 432x288 with 1 Axes>"
      ]
     },
     "metadata": {
      "needs_background": "light",
      "tags": []
     },
     "output_type": "display_data"
    },
    {
     "data": {
      "image/png": "[encoded data removed]",
      "text/plain": [
       "<Figure size 432x288 with 1 Axes>"
      ]
     },
     "metadata": {
      "needs_background": "light",
      "tags": []
     },
     "output_type": "display_data"
    }
   ],
   "source": [
    "en_lens = [len(x.split()) for x in en_sentences]\n",
    "fr_lens = [len(x.split()) for x in fr_sentences]\n",
    "\n",
    "plt.figure()\n",
    "plt.hist(en_lens)\n",
    "\n",
    "plt.figure()\n",
    "plt.hist(fr_lens)\n",
    "\n",
    "en_mean = np.mean(en_lens)\n",
    "en_std = np.std(en_lens)\n",
    "fr_mean = np.mean(fr_lens)\n",
    "fr_std = np.std(fr_lens)\n",
    "en_max = np.max(en_lens)\n",
    "fr_max = np.max(fr_lens)\n",
    "\n",
    "print(f'English sentences : mean = {en_mean}, std = {en_std}, max = {en_max}')\n",
    "print(f'French sentences : mean = {fr_mean}, std = {fr_std}, max = {fr_max}')"
   ]
  },
  {
   "cell_type": "code",
   "execution_count": 0,
   "metadata": {
    "colab": {},
    "colab_type": "code",
    "id": "jInzPs5A5HO1"
   },
   "outputs": [],
   "source": [
    "max_sequence_len = 30\n",
    "en_vocab_size = 30000\n",
    "fr_vocab_size = 30000"
   ]
  },
  {
   "cell_type": "markdown",
   "metadata": {
    "colab_type": "text",
    "id": "lvDeHeXL5HO4"
   },
   "source": [
    "## Tokenization and Sequence Padding"
   ]
  },
  {
   "cell_type": "code",
   "execution_count": 0,
   "metadata": {
    "colab": {},
    "colab_type": "code",
    "id": "QCR08fEG5HO4"
   },
   "outputs": [],
   "source": [
    "def preprocess_en(en):\n",
    "    encoded_en = en_tk.texts_to_sequences(en)\n",
    "    padded_en = pad_sequences(encoded_en, maxlen=max_sequence_len, padding='post', truncating='post')\n",
    "    return padded_en\n",
    "\n",
    "def preprocess_fr(fr):\n",
    "    encoded_fr = fr_tk.texts_to_sequences(fr)\n",
    "    padded_fr = pad_sequences(encoded_fr, maxlen=max_sequence_len, padding='post', truncating='post')\n",
    "    return padded_fr\n",
    "\n",
    "def preprocess_text(en, fr):\n",
    "    return preprocess_en(en.numpy().decode()), preprocess_fr(fr.numpy().decode())"
   ]
  },
  {
   "cell_type": "markdown",
   "metadata": {
    "colab_type": "text",
    "id": "BNZSEsni5HO6"
   },
   "source": [
    "## Preparing Training Dataset"
   ]
  },
  {
   "cell_type": "code",
   "execution_count": 0,
   "metadata": {
    "colab": {},
    "colab_type": "code",
    "id": "2g3ofFZX5HO7"
   },
   "outputs": [],
   "source": [
    "train_ds = dataset['train']\n",
    "train_en = []\n",
    "train_fr = []\n",
    "for example in tqdm(train_ds):\n",
    "    train_en.append(example[0].numpy().decode())\n",
    "    train_fr.append('startseq ' + example[1].numpy().decode() + ' endseq')\n",
    "train_en = preprocess_en(train_en)\n",
    "train_fr = preprocess_fr(train_fr)\n",
    "\n",
    "batch_size = 80\n",
    "train_dataset = tf.data.Dataset.from_tensor_slices((train_en, train_fr))\n",
    "train_dataset = train_dataset.cache()\n",
    "train_dataset = train_dataset.shuffle(1024)\n",
    "train_dataset = train_dataset.batch(batch_size, drop_remainder=True)\n",
    "train_dataset = train_dataset.prefetch(tf.data.experimental.AUTOTUNE)"
   ]
  },
  {
   "cell_type": "markdown",
   "metadata": {
    "colab_type": "text",
    "id": "s8SZ7G0C5HO9"
   },
   "source": [
    "## Defining Encoder, Decoder, and Attention Models using tf.keras *Model Subclassing*"
   ]
  },
  {
   "cell_type": "code",
   "execution_count": 0,
   "metadata": {
    "colab": {},
    "colab_type": "code",
    "id": "HfPAVDFa5HO9"
   },
   "outputs": [],
   "source": [
    "class Encoder(tf.keras.Model):\n",
    "    def __init__(self, hidden_size=1000, max_sequence_len=30, batch_size=batch_size, embedding_dim=620, vocab_size=30000):\n",
    "        super(Encoder, self).__init__()\n",
    "        self.embedding_dim = embedding_dim\n",
    "        self.vocab_size = vocab_size\n",
    "        self.max_sequence_len = max_sequence_len\n",
    "        self.hidden_size = hidden_size\n",
    "        self.batch_size = batch_size\n",
    "        self.initializer = tf.keras.initializers.RandomNormal(mean=0, stddev=0.001)\n",
    "        self.embedding_layer = Embedding(\n",
    "            input_dim=self.vocab_size, output_dim=self.embedding_dim)\n",
    "        self.GRU_1 = Bidirectional(GRU(units=hidden_size, return_sequences=True, return_state=True, kernel_initializer=self.initializer,\n",
    "                                       bias_initializer='zeros'))\n",
    "\n",
    "    def initial_hidden_state(self):\n",
    "        return [tf.zeros(shape=(self.batch_size, self.hidden_size),) for i in range(2)]\n",
    "\n",
    "    def call(self, x, initial_state, training=False):\n",
    "        x = self.embedding_layer(x)\n",
    "        x, hidden_state,_ = self.GRU_1(x, initial_state=initial_state)\n",
    "        return x, hidden_state\n",
    "\n",
    "\n",
    "class Attention(tf.keras.Model):\n",
    "    def __init__(self, hidden_size=256):\n",
    "        super(Attention, self).__init__()\n",
    "        self.initializer = tf.keras.initializers.RandomNormal(mean=0, stddev=0.001)\n",
    "        self.fc1 = Dense(units=hidden_size, kernel_initializer=self.initializer,\n",
    "                                       bias_initializer='zeros')\n",
    "        self.fc2 = Dense(units=hidden_size, kernel_initializer=self.initializer,\n",
    "                                       bias_initializer='zeros')\n",
    "        self.fc3 = Dense(units=1, kernel_initializer=self.initializer,\n",
    "                                       bias_initializer='zeros')\n",
    "\n",
    "    def call(self, encoder_output, hidden_state, training=False):\n",
    "        '''hidden_state : h(t-1)'''\n",
    "        y_hidden_state = tf.expand_dims(hidden_state, axis=1)\n",
    "        y_hidden_state = self.fc1(y_hidden_state)\n",
    "        y_enc_out = self.fc2(encoder_output)\n",
    "\n",
    "        y = tf.keras.backend.tanh(y_enc_out + y_hidden_state)\n",
    "        attention_score = self.fc3(y)\n",
    "        attention_weights = tf.keras.backend.softmax(attention_score, axis=1)\n",
    "\n",
    "        context_vector = tf.multiply(encoder_output, attention_weights)\n",
    "        context_vector = tf.reduce_sum(context_vector, axis=1)\n",
    "\n",
    "        return context_vector, attention_weights\n",
    "\n",
    "\n",
    "class Decoder(tf.keras.Model):\n",
    "    def __init__(self, hidden_size=1000, max_sequence_len=30, batch_size=batch_size, embedding_dim=620, vocab_size=30000):\n",
    "        super(Decoder, self).__init__()\n",
    "        self.embedding_dim = embedding_dim\n",
    "        self.vocab_size = vocab_size\n",
    "        self.max_sequence_len = max_sequence_len\n",
    "        self.hidden_size = hidden_size\n",
    "        self.batch_size = batch_size\n",
    "        self.initializer = tf.keras.initializers.RandomNormal(mean=0, stddev=0.001)\n",
    "        self.embedding_layer = Embedding(\n",
    "            input_dim=self.vocab_size, output_dim=self.embedding_dim)\n",
    "        self.GRU = GRU(units=hidden_size,\n",
    "                       return_sequences=True, return_state=True)\n",
    "        self.attention = Attention(hidden_size=self.hidden_size)\n",
    "        self.fc = Dense(units=self.vocab_size, kernel_initializer=self.initializer,\n",
    "                                       bias_initializer='zeros')\n",
    "\n",
    "    def initial_hidden_state(self):\n",
    "        return tf.zeros(shape=(self.batch_size, self.hidden_size))\n",
    "\n",
    "    def call(self, x, encoder_output, hidden_state, training=False):\n",
    "        x = self.embedding_layer(x)\n",
    "        context_vector, attention_weights = self.attention(\n",
    "            encoder_output, hidden_state, training=training)\n",
    "        contect_vector = tf.expand_dims(context_vector, axis=1)\n",
    "        x = tf.concat([x, contect_vector], axis=-1)\n",
    "        x, curr_hidden_state = self.GRU(x)\n",
    "        x = tf.reshape(x, shape=[self.batch_size, -1])\n",
    "        x = self.fc(x)\n",
    "        return x, curr_hidden_state, attention_weights"
   ]
  },
  {
   "cell_type": "markdown",
   "metadata": {
    "colab_type": "text",
    "id": "oyTdyV4S5HPA"
   },
   "source": [
    "## Defining Training Loop, Loss Function, and Optimizer"
   ]
  },
  {
   "cell_type": "code",
   "execution_count": 0,
   "metadata": {
    "colab": {},
    "colab_type": "code",
    "id": "IIzMKRr-5HPA"
   },
   "outputs": [],
   "source": [
    "loss_object = tf.losses.SparseCategoricalCrossentropy(from_logits=True)\n",
    "optimizer = tf.keras.optimizers.Adadelta(rho=0.95, epsilon=1e-06)\n",
    "train_accuracy = tf.metrics.SparseCategoricalAccuracy()\n",
    "\n",
    "\n",
    "def loss_function(y_true, y_pred):\n",
    "    loss = loss_object(y_true, y_pred)\n",
    "    mask = 1 - tf.cast(tf.equal(y_true, 0), 'float32')\n",
    "    return tf.reduce_mean(loss * mask)\n",
    "    \n",
    "@tf.function()\n",
    "def training_step(en, fr):    \n",
    "    with tf.GradientTape() as Tape:\n",
    "        encoder_init_state = encoder.initial_hidden_state()\n",
    "        encoder_output, encoder_hidden_state = encoder(en, encoder_init_state, training=True)\n",
    "        decoder_hidden = encoder_hidden_state\n",
    "        loss = 0\n",
    "        acc = []\n",
    "        current_word = tf.expand_dims(fr[:, 0], axis=1)\n",
    "        for word_idx in range(1, max_sequence_len):\n",
    "            next_word = fr[:, word_idx]\n",
    "            logits, decoder_hidden, attention_weights = decoder(current_word, encoder_output, decoder_hidden, training=True)\n",
    "            loss += loss_function(next_word, logits)\n",
    "            acc.append(train_accuracy(next_word, logits))\n",
    "            current_word = tf.expand_dims(next_word, axis=1)\n",
    "    variables = encoder.trainable_variables + decoder.trainable_variables\n",
    "    gradients = Tape.gradient(loss, variables)\n",
    "    optimizer.apply_gradients(zip(gradients, variables))\n",
    "    return loss, tf.reduce_mean(acc)"
   ]
  },
  {
   "cell_type": "markdown",
   "metadata": {
    "colab_type": "text",
    "id": "MYDFUqqH1lQ3"
   },
   "source": [
    "## Initializing Encoder, Decoder, and the Checkpoint Directory"
   ]
  },
  {
   "cell_type": "code",
   "execution_count": 0,
   "metadata": {
    "colab": {},
    "colab_type": "code",
    "id": "vSyQ3rz45HPC"
   },
   "outputs": [],
   "source": [
    "encoder = Encoder()\n",
    "decoder = Decoder()\n",
    "checkpoint_dir = '/content/drive/My Drive/training3200000'\n",
    "checkpoint_prefix = '/content/drive/My Drive/training3200000/ckpt'\n",
    "checkpoint = tf.train.Checkpoint(optimizer=optimizer, encoder=encoder, decoder=decoder)"
   ]
  },
  {
   "cell_type": "markdown",
   "metadata": {
    "colab_type": "text",
    "id": "LTIKvBba1tzr"
   },
   "source": [
    "## Restoring the Checkpoint to Continue Training"
   ]
  },
  {
   "cell_type": "code",
   "execution_count": 14,
   "metadata": {
    "colab": {
     "base_uri": "https://localhost:8080/",
     "height": 34
    },
    "colab_type": "code",
    "id": "0b7bxZmrOuqT",
    "outputId": "0b2f10ea-0f0d-4c2b-8c4e-416beb261df6"
   },
   "outputs": [
    {
     "data": {
      "text/plain": [
       "<tensorflow.python.training.tracking.util.CheckpointLoadStatus at 0x7fe1cc4ccac8>"
      ]
     },
     "execution_count": 14,
     "metadata": {
      "tags": []
     },
     "output_type": "execute_result"
    }
   ],
   "source": [
    "checkpoint.restore('/content/drive/My Drive/training3200000/ckpt-9')"
   ]
  },
  {
   "cell_type": "markdown",
   "metadata": {
    "colab_type": "text",
    "id": "JVfYDZlK5HPE"
   },
   "source": [
    "## Training the Model"
   ]
  },
  {
   "cell_type": "code",
   "execution_count": 0,
   "metadata": {
    "colab": {},
    "colab_type": "code",
    "id": "WdMpCnQ85HPF"
   },
   "outputs": [],
   "source": [
    "epochs = 10\n",
    "num_steps = NUM_SAMPLES // batch_size\n",
    "for epoch in range(1, epochs + 1):\n",
    "    print(f'Epoch {epoch}/{epochs}')\n",
    "    ep_loss = []\n",
    "    ep_acc = []\n",
    "    progbar = tf.keras.utils.Progbar(target=num_steps, stateful_metrics=[\n",
    "                                     'curr_loss', 'curr_accuracy'], unit_name='batch')\n",
    "\n",
    "    for step, example in enumerate(train_dataset):\n",
    "        en = example[0]\n",
    "        fr = example[1]\n",
    "        loss, acc = training_step(en, fr)\n",
    "        loss /= fr.shape[1]\n",
    "        ep_loss.append(loss)\n",
    "        ep_acc.append(acc)\n",
    "        progbar.update(\n",
    "            step + 1, values=[('curr_loss', loss), ('curr_accuracy', acc)])\n",
    "\n",
    "    checkpoint.save(file_prefix=checkpoint_prefix)\n",
    "    print(checkpoint_prefix)\n",
    "    print(f'Metrics after epoch {epoch} : Loss => {np.mean(ep_loss):.3f} | Accuracy => {np.mean(ep_acc):.3f}')\n",
    "checkpoint.save(file_prefix=checkpoint_prefix)"
   ]
  },
  {
   "cell_type": "markdown",
   "metadata": {
    "colab_type": "text",
    "id": "M9-TF8p118hb"
   },
   "source": [
    "## Checking time left on Google Colab (limit is 12 hours = 43,200 seconds)"
   ]
  },
  {
   "cell_type": "code",
   "execution_count": 16,
   "metadata": {
    "colab": {
     "base_uri": "https://localhost:8080/",
     "height": 34
    },
    "colab_type": "code",
    "id": "BQ4aFMgvE-_G",
    "outputId": "b07fd1bf-9fd6-4b35-9331-2ddf3e6c4034"
   },
   "outputs": [
    {
     "name": "stdout",
     "output_type": "stream",
     "text": [
      "39193.249314546585\n"
     ]
    }
   ],
   "source": [
    "import time, psutil\n",
    "uptime = time.time() - psutil.boot_time()\n",
    "remain = 12*60*60 - uptime\n",
    "print(remain)"
   ]
  },
  {
   "cell_type": "markdown",
   "metadata": {
    "colab_type": "text",
    "id": "x9LIMwjA25C_"
   },
   "source": [
    "# **Inference**"
   ]
  },
  {
   "cell_type": "markdown",
   "metadata": {
    "colab_type": "text",
    "id": "Jw5FO_sB2Kk6"
   },
   "source": [
    "## Restoring the Checkpoint to perform Inference"
   ]
  },
  {
   "cell_type": "code",
   "execution_count": 17,
   "metadata": {
    "colab": {
     "base_uri": "https://localhost:8080/",
     "height": 34
    },
    "colab_type": "code",
    "id": "QXYBfGbB5HPH",
    "outputId": "f90ea10f-2577-42d2-8c3c-ee5086b8775a"
   },
   "outputs": [
    {
     "data": {
      "text/plain": [
       "<tensorflow.python.training.tracking.util.CheckpointLoadStatus at 0x7fe23dea7080>"
      ]
     },
     "execution_count": 17,
     "metadata": {
      "tags": []
     },
     "output_type": "execute_result"
    }
   ],
   "source": [
    "checkpoint.restore('/content/drive/My Drive/training3200000/ckpt-10')"
   ]
  },
  {
   "cell_type": "markdown",
   "metadata": {
    "colab_type": "text",
    "id": "dKBU6jem5HPI"
   },
   "source": [
    "## Inference function"
   ]
  },
  {
   "cell_type": "code",
   "execution_count": 0,
   "metadata": {
    "colab": {},
    "colab_type": "code",
    "id": "vp3iStoE5HPJ"
   },
   "outputs": [],
   "source": [
    "def translate_sentence(sentence):\n",
    "    sentence = preprocess_en([sentence])\n",
    "    enc_init = tf.zeros(shape=[1, 1024])\n",
    "    enc_out, enc_hidden = encoder(sentence, enc_init)\n",
    "\n",
    "    decoder.batch_size = 1\n",
    "    fr_tk.index_word[0] = ''\n",
    "    decoded = []\n",
    "    att = []\n",
    "    current_word = tf.expand_dims([fr_tk.word_index['startseq']], axis=0) \n",
    "    decoder_hidden = enc_hidden\n",
    "    for word_idx in range(1, max_sequence_len):\n",
    "        logits, decoder_hidden, attention_weights = decoder(current_word, enc_out, decoder_hidden)\n",
    "        decoded_idx = np.argmax(logits)\n",
    "        if fr_tk.index_word[decoded_idx] == 'endseq':\n",
    "            break\n",
    "        decoded.append(fr_tk.index_word[decoded_idx])\n",
    "        att.append(attention_weights.numpy().squeeze())\n",
    "        current_word = tf.expand_dims([decoded_idx], axis=0)\n",
    "    return ' '.join(decoded), att"
   ]
  },
  {
   "cell_type": "markdown",
   "metadata": {
    "colab_type": "text",
    "id": "gN_U9s6h5HPL"
   },
   "source": [
    "## Translating and Visualizing Attention Heatmaps"
   ]
  },
  {
   "cell_type": "code",
   "execution_count": 0,
   "metadata": {
    "colab": {},
    "colab_type": "code",
    "id": "v4Xr4R_HAOYr"
   },
   "outputs": [],
   "source": [
    "ref_en_sentences = [\"there is a misunderstanding\",\n",
    "                    \"what do you want\",\n",
    "                    \"are you crazy\",\n",
    "                    \"state of the art\",\n",
    "                    \"the exam is difficult\",\n",
    "                    \"do you want to play with me\",\n",
    "                    \"how are you\",\n",
    "                    \"i must tell you that I am very dangerous\",\n",
    "                    \"do you have any idea how to use it\",\n",
    "                    \"can I have some coffee\",\n",
    "                    \"the sun is bright today\",\n",
    "                    \"once the precautions have been taken we can begin initiation\",\n",
    "                    \"the shoes are white with black concentric circles on them\",\n",
    "                    \"i found a treasure map on the way home today\",\n",
    "                    \"i went to the supermarket the other day and they let me pick a surprise from the community prize barrel\",\n",
    "                    \"once upon a time there was a brightly young damsel nicknamed Little Red Riding Hood who was happily skipping through the forest on her way to her grandmothers country house\",\n",
    "                    \"with little to no idea as to what to do next Michael decided that the only sensible course of action was to let go of the past and move on\",\n",
    "                    \"the village consisted of the sheriffs office along with the cowboy bar and thirty desolate residents who had only these two institutions to visit in times of duress and emptiness\",\n",
    "                    ]"
   ]
  },
  {
   "cell_type": "code",
   "execution_count": 0,
   "metadata": {
    "colab": {},
    "colab_type": "code",
    "id": "DYqAVofsBWuz"
   },
   "outputs": [],
   "source": [
    "fre_sentences = [\"il y a un malentendu\",\n",
    "                 'que veux tu',\n",
    "                 'es tu fou',\n",
    "                 \"l'état de l'art\",\n",
    "                 \"l'examen est difficile\", \n",
    "                 'voulez vous jouer avec moi',\n",
    "                 \"comment allez vous\",\n",
    "                 'je dois vous dire que je suis très dangereux',\n",
    "                 \"as tu une idée de comment l'utiliser\",\n",
    "                 \"Puis-je avoir du café\",\n",
    "                 \"Le soleil est brillant aujourd'hui\",\n",
    "                 \"Une fois les précautions prises, nous pouvons commencer l'initiation\",\n",
    "                 \"Les chaussures sont blanches avec des cercles concentriques noirs sur eux\",\n",
    "                 \"J'ai trouvé une carte au trésor sur le chemin du retour aujourd'hui\",\n",
    "                 \"Je suis allé au supermarché l'autre jour et ils m'ont laissé choisir une surprise dans le baril de prix communautaire\",\n",
    "                 \"Il était une fois une jeune fille enjouée surnommée le petit chaperon rouge qui sautait joyeusement à travers la forêt en se rendant à la maison de campagne de sa grand-mère\",\n",
    "                 \"Avec peu ou aucune idée de ce qu'il fallait faire ensuite, Michael a décidé que la seule solution raisonnable était de laisser aller le passé et de passer à autre chose\",\n",
    "                 \"Le village se composait du bureau des shérifs ainsi que du cowboy bar et d'une trentaine d'habitants désolés qui n'avaient que ces deux institutions à visiter en période de contrainte et de vide\",\n",
    "                 ]\n",
    "\n",
    "hyp_en_sentences = []"
   ]
  },
  {
   "cell_type": "code",
   "execution_count": 21,
   "metadata": {
    "colab": {
     "base_uri": "https://localhost:8080/",
     "height": 1000
    },
    "colab_type": "code",
    "id": "f833wT185HPM",
    "outputId": "549436d2-4346-4a74-8ff5-4ede4f7ac27d"
   },
   "outputs": [
    {
     "name": "stdout",
     "output_type": "stream",
     "text": [
      "FR :  il y a un malentendu\n",
      "EN :  there is a misunderstanding\n",
      "OR :  there is a misunderstanding\n",
      "---------------------------------------------------------------------------\n",
      "FR :  que veux tu\n",
      "EN :  what do you want\n",
      "OR :  what do you want\n",
      "---------------------------------------------------------------------------\n",
      "FR :  es tu fou\n",
      "EN :  you are\n",
      "OR :  are you crazy\n",
      "---------------------------------------------------------------------------\n",
      "FR :  l'état de l'art\n",
      "EN :  the state of art\n",
      "OR :  state of the art\n",
      "---------------------------------------------------------------------------\n",
      "FR :  l'examen est difficile\n",
      "EN :  the review is difficult\n",
      "OR :  the exam is difficult\n",
      "---------------------------------------------------------------------------\n",
      "FR :  voulez vous jouer avec moi\n",
      "EN :  do you want to play with me\n",
      "OR :  do you want to play with me\n",
      "---------------------------------------------------------------------------\n",
      "FR :  comment allez vous\n",
      "EN :  how do you go\n",
      "OR :  how are you\n",
      "---------------------------------------------------------------------------\n",
      "FR :  je dois vous dire que je suis très dangereux\n",
      "EN :  i must tell you that i am very dangerous\n",
      "OR :  i must tell you that I am very dangerous\n",
      "---------------------------------------------------------------------------\n",
      "FR :  as tu une idée de comment l'utiliser\n",
      "EN :  as you have an idea of how to use it\n",
      "OR :  do you have any idea how to use it\n",
      "---------------------------------------------------------------------------\n",
      "FR :  Puis-je avoir du café\n",
      "EN :  can i have coffee\n",
      "OR :  can I have some coffee\n",
      "---------------------------------------------------------------------------\n",
      "FR :  Le soleil est brillant aujourd'hui\n",
      "EN :  the sun is bright today\n",
      "OR :  the sun is bright today\n",
      "---------------------------------------------------------------------------\n"
     ]
    },
    {
     "name": "stderr",
     "output_type": "stream",
     "text": [
      "/usr/local/lib/python3.6/dist-packages/ipykernel_launcher.py:9: RuntimeWarning: More than 20 figures have been opened. Figures created through the pyplot interface (`matplotlib.pyplot.figure`) are retained until explicitly closed and may consume too much memory. (To control this warning, see the rcParam `figure.max_open_warning`).\n",
      "  if __name__ == '__main__':\n",
      "/usr/local/lib/python3.6/dist-packages/ipykernel_launcher.py:10: RuntimeWarning: More than 20 figures have been opened. Figures created through the pyplot interface (`matplotlib.pyplot.figure`) are retained until explicitly closed and may consume too much memory. (To control this warning, see the rcParam `figure.max_open_warning`).\n",
      "  # Remove the CWD from sys.path while we load stuff.\n"
     ]
    },
    {
     "name": "stdout",
     "output_type": "stream",
     "text": [
      "FR :  Une fois les précautions prises, nous pouvons commencer l'initiation\n",
      "EN :  once the precautions taken we can start the initiation of the initiation of the initiation of the initiation of the initiation of the initiation of the initiation of the\n",
      "OR :  once the precautions have been taken we can begin initiation\n",
      "---------------------------------------------------------------------------\n",
      "FR :  Les chaussures sont blanches avec des cercles concentriques noirs sur eux\n",
      "EN :  the footwear is white with black circles\n",
      "OR :  the shoes are white with black concentric circles on them\n",
      "---------------------------------------------------------------------------\n",
      "FR :  J'ai trouvé une carte au trésor sur le chemin du retour aujourd'hui\n",
      "EN :  i found a map to the bank on the return to today\n",
      "OR :  i found a treasure map on the way home today\n",
      "---------------------------------------------------------------------------\n",
      "FR :  Je suis allé au supermarché l'autre jour et ils m'ont laissé choisir une surprise dans le baril de prix communautaire\n",
      "EN :  i went to the other hand and have left to a surprise to the barrel of community prices\n",
      "OR :  i went to the supermarket the other day and they let me pick a surprise from the community prize barrel\n",
      "---------------------------------------------------------------------------\n",
      "FR :  Il était une fois une jeune fille enjouée surnommée le petit chaperon rouge qui sautait joyeusement à travers la forêt en se rendant à la maison de campagne de sa grand-mère\n",
      "EN :  he was a young girl the red girl who through the forest through the big brother in the grandmother\n",
      "OR :  once upon a time there was a brightly young damsel nicknamed Little Red Riding Hood who was happily skipping through the forest on her way to her grandmothers country house\n",
      "---------------------------------------------------------------------------\n",
      "FR :  Avec peu ou aucune idée de ce qu'il fallait faire ensuite, Michael a décidé que la seule solution raisonnable était de laisser aller le passé et de passer à autre chose\n",
      "EN :  with little or no idea of what was to do then michael decided that the only reasonable solution was to leave the past and move from the past and\n",
      "OR :  with little to no idea as to what to do next Michael decided that the only sensible course of action was to let go of the past and move on\n",
      "---------------------------------------------------------------------------\n",
      "FR :  Le village se composait du bureau des shérifs ainsi que du cowboy bar et d'une trentaine d'habitants désolés qui n'avaient que ces deux institutions à visiter en période de contrainte et de vide\n",
      "EN :  the village consisted of the office of the and the bar and a 30 000 inhabitants of the two institutions to visit the time of time and empty and\n",
      "OR :  the village consisted of the sheriffs office along with the cowboy bar and thirty desolate residents who had only these two institutions to visit in times of duress and emptiness\n",
      "---------------------------------------------------------------------------\n"
     ]
    },
    {
     "data": {
      "text/plain": [
       "<Figure size 360x288 with 0 Axes>"
      ]
     },
     "metadata": {
      "tags": []
     },
     "output_type": "display_data"
    },
    {
     "data": {
      "image/png": "[encoded data removed]",
      "text/plain": [
       "<Figure size 360x288 with 1 Axes>"
      ]
     },
     "metadata": {
      "needs_background": "light",
      "tags": []
     },
     "output_type": "display_data"
    },
    {
     "data": {
      "text/plain": [
       "<Figure size 216x288 with 0 Axes>"
      ]
     },
     "metadata": {
      "tags": []
     },
     "output_type": "display_data"
    },
    {
     "data": {
      "image/png": "[encoded data removed]",
      "text/plain": [
       "<Figure size 288x384 with 1 Axes>"
      ]
     },
     "metadata": {
      "needs_background": "light",
      "tags": []
     },
     "output_type": "display_data"
    },
    {
     "data": {
      "text/plain": [
       "<Figure size 216x144 with 0 Axes>"
      ]
     },
     "metadata": {
      "tags": []
     },
     "output_type": "display_data"
    },
    {
     "data": {
      "image/png": "[encoded data removed]",
      "text/plain": [
       "<Figure size 432x288 with 1 Axes>"
      ]
     },
     "metadata": {
      "needs_background": "light",
      "tags": []
     },
     "output_type": "display_data"
    },
    {
     "data": {
      "text/plain": [
       "<Figure size 216x288 with 0 Axes>"
      ]
     },
     "metadata": {
      "tags": []
     },
     "output_type": "display_data"
    },
    {
     "data": {
      "image/png": "[encoded data removed]",
      "text/plain": [
       "<Figure size 288x384 with 1 Axes>"
      ]
     },
     "metadata": {
      "needs_background": "light",
      "tags": []
     },
     "output_type": "display_data"
    },
    {
     "data": {
      "text/plain": [
       "<Figure size 216x288 with 0 Axes>"
      ]
     },
     "metadata": {
      "tags": []
     },
     "output_type": "display_data"
    },
    {
     "data": {
      "image/png": "[encoded data removed]",
      "text/plain": [
       "<Figure size 288x384 with 1 Axes>"
      ]
     },
     "metadata": {
      "needs_background": "light",
      "tags": []
     },
     "output_type": "display_data"
    },
    {
     "data": {
      "text/plain": [
       "<Figure size 360x504 with 0 Axes>"
      ]
     },
     "metadata": {
      "tags": []
     },
     "output_type": "display_data"
    },
    {
     "data": {
      "image/png": "[encoded data removed]",
      "text/plain": [
       "<Figure size 288x403.2 with 1 Axes>"
      ]
     },
     "metadata": {
      "needs_background": "light",
      "tags": []
     },
     "output_type": "display_data"
    },
    {
     "data": {
      "text/plain": [
       "<Figure size 216x288 with 0 Axes>"
      ]
     },
     "metadata": {
      "tags": []
     },
     "output_type": "display_data"
    },
    {
     "data": {
      "image/png": "[encoded data removed]",
      "text/plain": [
       "<Figure size 288x384 with 1 Axes>"
      ]
     },
     "metadata": {
      "needs_background": "light",
      "tags": []
     },
     "output_type": "display_data"
    },
    {
     "data": {
      "text/plain": [
       "<Figure size 648x648 with 0 Axes>"
      ]
     },
     "metadata": {
      "tags": []
     },
     "output_type": "display_data"
    },
    {
     "data": {
      "image/png": "[encoded data removed]",
      "text/plain": [
       "<Figure size 288x288 with 1 Axes>"
      ]
     },
     "metadata": {
      "needs_background": "light",
      "tags": []
     },
     "output_type": "display_data"
    },
    {
     "data": {
      "text/plain": [
       "<Figure size 504x720 with 0 Axes>"
      ]
     },
     "metadata": {
      "tags": []
     },
     "output_type": "display_data"
    },
    {
     "data": {
      "image/png": "[encoded data removed]",
      "text/plain": [
       "<Figure size 288x411.429 with 1 Axes>"
      ]
     },
     "metadata": {
      "needs_background": "light",
      "tags": []
     },
     "output_type": "display_data"
    },
    {
     "data": {
      "text/plain": [
       "<Figure size 288x288 with 0 Axes>"
      ]
     },
     "metadata": {
      "tags": []
     },
     "output_type": "display_data"
    },
    {
     "data": {
      "image/png": "[encoded data removed]",
      "text/plain": [
       "<Figure size 288x288 with 1 Axes>"
      ]
     },
     "metadata": {
      "needs_background": "light",
      "tags": []
     },
     "output_type": "display_data"
    },
    {
     "data": {
      "text/plain": [
       "<Figure size 360x360 with 0 Axes>"
      ]
     },
     "metadata": {
      "tags": []
     },
     "output_type": "display_data"
    },
    {
     "data": {
      "image/png": "[encoded data removed]",
      "text/plain": [
       "<Figure size 288x288 with 1 Axes>"
      ]
     },
     "metadata": {
      "needs_background": "light",
      "tags": []
     },
     "output_type": "display_data"
    },
    {
     "data": {
      "text/plain": [
       "<Figure size 648x2088 with 0 Axes>"
      ]
     },
     "metadata": {
      "tags": []
     },
     "output_type": "display_data"
    },
    {
     "data": {
      "image/png": "[encoded data removed]",
      "text/plain": [
       "<Figure size 288x928 with 1 Axes>"
      ]
     },
     "metadata": {
      "needs_background": "light",
      "tags": []
     },
     "output_type": "display_data"
    },
    {
     "data": {
      "text/plain": [
       "<Figure size 792x504 with 0 Axes>"
      ]
     },
     "metadata": {
      "tags": []
     },
     "output_type": "display_data"
    },
    {
     "data": {
      "image/png": "[encoded data removed]",
      "text/plain": [
       "<Figure size 452.571x288 with 1 Axes>"
      ]
     },
     "metadata": {
      "needs_background": "light",
      "tags": []
     },
     "output_type": "display_data"
    },
    {
     "data": {
      "text/plain": [
       "<Figure size 864x864 with 0 Axes>"
      ]
     },
     "metadata": {
      "tags": []
     },
     "output_type": "display_data"
    },
    {
     "data": {
      "image/png": "[encoded data removed]",
      "text/plain": [
       "<Figure size 288x288 with 1 Axes>"
      ]
     },
     "metadata": {
      "needs_background": "light",
      "tags": []
     },
     "output_type": "display_data"
    },
    {
     "data": {
      "text/plain": [
       "<Figure size 1440x1296 with 0 Axes>"
      ]
     },
     "metadata": {
      "tags": []
     },
     "output_type": "display_data"
    },
    {
     "data": {
      "image/png": "[encoded data removed]",
      "text/plain": [
       "<Figure size 320x288 with 1 Axes>"
      ]
     },
     "metadata": {
      "needs_background": "light",
      "tags": []
     },
     "output_type": "display_data"
    },
    {
     "data": {
      "text/plain": [
       "<Figure size 2232x1368 with 0 Axes>"
      ]
     },
     "metadata": {
      "tags": []
     },
     "output_type": "display_data"
    },
    {
     "data": {
      "image/png": "[encoded data removed]",
      "text/plain": [
       "<Figure size 454.737x288 with 1 Axes>"
      ]
     },
     "metadata": {
      "needs_background": "light",
      "tags": []
     },
     "output_type": "display_data"
    },
    {
     "data": {
      "text/plain": [
       "<Figure size 2232x2088 with 0 Axes>"
      ]
     },
     "metadata": {
      "tags": []
     },
     "output_type": "display_data"
    },
    {
     "data": {
      "image/png": "[encoded data removed]",
      "text/plain": [
       "<Figure size 297.931x288 with 1 Axes>"
      ]
     },
     "metadata": {
      "needs_background": "light",
      "tags": []
     },
     "output_type": "display_data"
    },
    {
     "data": {
      "text/plain": [
       "<Figure size 2376x2088 with 0 Axes>"
      ]
     },
     "metadata": {
      "tags": []
     },
     "output_type": "display_data"
    },
    {
     "data": {
      "image/png": "[encoded data removed]",
      "text/plain": [
       "<Figure size 297.931x288 with 1 Axes>"
      ]
     },
     "metadata": {
      "needs_background": "light",
      "tags": []
     },
     "output_type": "display_data"
    }
   ],
   "source": [
    "for inp_sentence, original in zip(fre_sentences, ref_en_sentences):\n",
    "    inp_array = inp_sentence.split()\n",
    "    inp_len = len(inp_sentence.split())\n",
    "    trans_sentence, attention_weights = translate_sentence(inp_sentence)\n",
    "    trans_array = trans_sentence.split()\n",
    "    trans_len = len(trans_array)\n",
    "    attention_weights = np.array([x for x in attention_weights])\n",
    "    attention_weights = attention_weights[:trans_len,:inp_len]\n",
    "    plt.figure(figsize=(inp_len, trans_len))\n",
    "    plt.matshow(attention_weights)\n",
    "    plt.xticks(ticks=range(inp_len), labels=inp_array, rotation=90)\n",
    "    plt.yticks(ticks=range(trans_len), labels=trans_array)\n",
    "    print('FR : ', inp_sentence)\n",
    "    print('EN : ', trans_sentence)\n",
    "    print('OR : ', original)\n",
    "    print('-'*75)"
   ]
  },
  {
   "cell_type": "markdown",
   "metadata": {
    "colab_type": "text",
    "id": "xP2i09jvVQ5Q"
   },
   "source": [
    "# **BLEU Scoring to Produce Results as the Paper**\n",
    "\n",
    "\n"
   ]
  },
  {
   "cell_type": "code",
   "execution_count": 2,
   "metadata": {
    "colab": {
     "base_uri": "https://localhost:8080/",
     "height": 51
    },
    "colab_type": "code",
    "id": "gjAi_qylVh3H",
    "outputId": "3a664781-33a1-4b8f-feea-96f7268db552"
   },
   "outputs": [
    {
     "name": "stderr",
     "output_type": "stream",
     "text": [
      "[nltk_data] Downloading package punkt to\n",
      "[nltk_data]     /Users/harshithbelagur/nltk_data...\n",
      "[nltk_data]   Package punkt is already up-to-date!\n"
     ]
    }
   ],
   "source": [
    "import nltk\n",
    "from nltk.tokenize import word_tokenize\n",
    "from nltk.translate.bleu_score import SmoothingFunction, sentence_bleu\n",
    "nltk.download('punkt')\n",
    "from scipy.signal import savgol_filter\n",
    "%matplotlib notebook"
   ]
  },
  {
   "cell_type": "markdown",
   "metadata": {
    "colab_type": "text",
    "id": "0TtAGtGJ36dc"
   },
   "source": [
    "## Importing Data for Testing"
   ]
  },
  {
   "cell_type": "code",
   "execution_count": 0,
   "metadata": {
    "colab": {},
    "colab_type": "code",
    "id": "pQ3dwt1Bi2r5"
   },
   "outputs": [],
   "source": [
    "dataset['test'] = dataset['test'].take(3000)"
   ]
  },
  {
   "cell_type": "markdown",
   "metadata": {
    "colab_type": "text",
    "id": "F-G9eltG4KM_"
   },
   "source": [
    "## Adding Start and End Sequence Markers"
   ]
  },
  {
   "cell_type": "code",
   "execution_count": 24,
   "metadata": {
    "colab": {
     "base_uri": "https://localhost:8080/",
     "height": 34
    },
    "colab_type": "code",
    "id": "qXMKHigii6vB",
    "outputId": "97556b4c-9a2f-48b4-c105-aced06673cd8"
   },
   "outputs": [
    {
     "name": "stderr",
     "output_type": "stream",
     "text": [
      "3000it [00:01, 2911.16it/s]\n"
     ]
    }
   ],
   "source": [
    "en_sentences = []\n",
    "fr_sentences = []\n",
    "for example in tqdm(dataset['test']):\n",
    "    en_sentences.append(example[0].numpy().decode())\n",
    "    fr_sentences.append('startseq ' + example[1].numpy().decode() + ' endseq') "
   ]
  },
  {
   "cell_type": "markdown",
   "metadata": {
    "colab_type": "text",
    "id": "Aa4emuGC4MAi"
   },
   "source": [
    "##Display first 10 French Sentences"
   ]
  },
  {
   "cell_type": "code",
   "execution_count": 25,
   "metadata": {
    "colab": {
     "base_uri": "https://localhost:8080/",
     "height": 207
    },
    "colab_type": "code",
    "id": "hGXMvyWJjbHA",
    "outputId": "ed1cb313-8413-478d-87a2-fbe711816338"
   },
   "outputs": [
    {
     "data": {
      "text/plain": [
       "['Cogeco a acquis en 2012 le câblodistributeur Atlantic Broadband, établi aux États-Unis, pour 1,36 milliard.',\n",
       " '«\\xa0Personne ne se soucie de la Renamo ni du Frelimo, ils veulent juste retrouver la paix, ils veulent avoir un accès libre aux routes\\xa0», a-t-il ajouté.',\n",
       " '\"Je n\\'ai jamais eu la prétention d\\'être un auteur littéraire\", expliquait Gérard de Villiers.',\n",
       " \"Les marges de la division Transport ont souffert des problèmes d'exécution concernant quelques gros contrats.\",\n",
       " \"«\\xa0J'ai dit que j'avais examiné toute une série de questions, et c'était l'une d'elles\\xa0», a déclaré Daley au journal.\",\n",
       " \"Je m'attends à ce que le Royaume-Uni prenne ses distances par rapport à ce projet, et j'espère qu'il fera les yeux doux aux États-Unis.\",\n",
       " 'Spectaculaire saut en \"wingsuit\" au-dessus de Bogota',\n",
       " \"Les secours ont été appelés vers 1h, vendredi, en raison d'un feu qui s'était déclaré au sous-sol d'un restaurant de cuisine indienne sur l'avenue Dollard, près de l'intersection avec la rue Réjane.\",\n",
       " \"Cela permet de s'assurer qu'une personne ne tente pas d'usurper l'identité de quelqu'un d'autre.\",\n",
       " \"Il y a un débat concernant ce qui constitue l'apparition réelle de la puberté, mais elle est considérée comme «\\xa0précoce\\xa0» lorsque le développement de la poitrine s'accompagne d'une croissance soudaine avant l'âge de 8\\xa0ans.\"]"
      ]
     },
     "execution_count": 25,
     "metadata": {
      "tags": []
     },
     "output_type": "execute_result"
    }
   ],
   "source": [
    "en_sentences[0:10]"
   ]
  },
  {
   "cell_type": "markdown",
   "metadata": {
    "colab_type": "text",
    "id": "9lij5gK04XJ2"
   },
   "source": [
    "## Translating the sentences from the Test Dataset"
   ]
  },
  {
   "cell_type": "code",
   "execution_count": 26,
   "metadata": {
    "colab": {
     "base_uri": "https://localhost:8080/",
     "height": 34
    },
    "colab_type": "code",
    "id": "-TybaOmqjxFz",
    "outputId": "34e077bb-367a-4dc2-adf8-a43bc48b0c87"
   },
   "outputs": [
    {
     "name": "stderr",
     "output_type": "stream",
     "text": [
      "100%|██████████| 3000/3000 [11:49<00:00,  4.23it/s]\n"
     ]
    }
   ],
   "source": [
    "hyp_en_sentences = []\n",
    "\n",
    "for inp_sentence in tqdm(en_sentences):\n",
    "    inp_array = inp_sentence.split()\n",
    "    inp_len = len(inp_sentence.split())\n",
    "    trans_sentence, attention_weights = translate_sentence(inp_sentence)\n",
    "    trans_array = trans_sentence.split()\n",
    "    trans_len = len(trans_array)\n",
    "    hyp_en_sentences.append(trans_sentence)"
   ]
  },
  {
   "cell_type": "markdown",
   "metadata": {
    "colab_type": "text",
    "id": "eDXzhC9y4WHF"
   },
   "source": [
    "## Tokenization"
   ]
  },
  {
   "cell_type": "code",
   "execution_count": 0,
   "metadata": {
    "colab": {},
    "colab_type": "code",
    "id": "4i0XvBg4kAED"
   },
   "outputs": [],
   "source": [
    "tokenized_hyp = []\n",
    "tokenized_ref = []\n",
    "\n",
    "for sentence in hyp_en_sentences:\n",
    "  tokenized_hyp.append(word_tokenize(sentence))\n",
    "for sentence in fr_sentences:\n",
    "  tokenized_ref.append(word_tokenize(sentence))"
   ]
  },
  {
   "cell_type": "markdown",
   "metadata": {
    "colab_type": "text",
    "id": "DSQHmQEx4f-W"
   },
   "source": [
    "## Calculating BLEU Scores for the Hypothesized Translations"
   ]
  },
  {
   "cell_type": "code",
   "execution_count": 2,
   "metadata": {
    "colab": {
     "base_uri": "https://localhost:8080/",
     "height": 88
    },
    "colab_type": "code",
    "id": "CZ_55s4mktSG",
    "outputId": "43217467-9e45-41c8-ad17-5886e62388b8"
   },
   "outputs": [
    {
     "data": {
      "text/plain": [
       "[0.20808353599950755,\n",
       " 0.1269480313712254,\n",
       " 0.10766988273077759,\n",
       " 0.1621714079733057,\n",
       " 0.1015255252190817,\n",
       " 0.12872814268568533,\n",
       " 0,\n",
       " 0.1080252561266254,\n",
       " 0.33466668712883335,\n",
       " 0.14809001110096737,\n",
       " 0.1273159875626025,\n",
       " 0.09139405633964615,\n",
       " 0.12761146031179546,\n",
       " 0.26463594442057,\n",
       " 0.11984303700466545,\n",
       " 0.09527816472411818,\n",
       " 0.10038363395980865,\n",
       " 0.07634585581724357,\n",
       " 0.10144699504144401,\n",
       " 0.12093530009344196]"
      ]
     },
     "execution_count": 2,
     "metadata": {},
     "output_type": "execute_result"
    }
   ],
   "source": [
    "cc = SmoothingFunction()\n",
    "BLEUscore = []\n",
    "for i in tqdm(range(len(tokenized_hyp))):\n",
    "  BLEUscore.append(sentence_bleu([tokenized_ref[i]], tokenized_hyp[i], smoothing_function=cc.method4))\n",
    "print((BLEUscore[:20]))"
   ]
  },
  {
   "cell_type": "code",
   "execution_count": 0,
   "metadata": {
    "colab": {},
    "colab_type": "code",
    "id": "bgmgyDy6lMGa"
   },
   "outputs": [],
   "source": [
    "# print(sentence_len)"
   ]
  },
  {
   "cell_type": "markdown",
   "metadata": {
    "colab_type": "text",
    "id": "5zYgkBUj46mo"
   },
   "source": [
    "## Calculating Lengths of the sentences in the Test Dataset to plot the Graph"
   ]
  },
  {
   "cell_type": "code",
   "execution_count": 0,
   "metadata": {
    "colab": {},
    "colab_type": "code",
    "id": "ek9PbwRKk7oc"
   },
   "outputs": [],
   "source": [
    "sentence_len = []\n",
    "for sentence in en_sentences:\n",
    "  a = word_tokenize(sentence)\n",
    "  sentence_len.append(len(a))"
   ]
  },
  {
   "cell_type": "markdown",
   "metadata": {
    "colab_type": "text",
    "id": "p6uRsk945cGn"
   },
   "source": [
    "### Length of the Longest Sentence"
   ]
  },
  {
   "cell_type": "code",
   "execution_count": 31,
   "metadata": {
    "colab": {
     "base_uri": "https://localhost:8080/",
     "height": 34
    },
    "colab_type": "code",
    "id": "xDGcNexcmeM-",
    "outputId": "77b9cc75-731a-4dce-eb0a-d4e65a52e313"
   },
   "outputs": [
    {
     "name": "stdout",
     "output_type": "stream",
     "text": [
      "79\n"
     ]
    }
   ],
   "source": [
    "print(max(sentence_len))"
   ]
  },
  {
   "cell_type": "markdown",
   "metadata": {
    "colab_type": "text",
    "id": "wyzEY85K5kUM"
   },
   "source": [
    "### Highest BLEU Score"
   ]
  },
  {
   "cell_type": "code",
   "execution_count": 32,
   "metadata": {
    "colab": {
     "base_uri": "https://localhost:8080/",
     "height": 34
    },
    "colab_type": "code",
    "id": "7vBYqY3nmivl",
    "outputId": "bc8f6fa4-c360-414a-c0c2-7b432dd705ac"
   },
   "outputs": [
    {
     "name": "stdout",
     "output_type": "stream",
     "text": [
      "0.6520028108523781\n"
     ]
    }
   ],
   "source": [
    "print(max(BLEUscore))"
   ]
  },
  {
   "cell_type": "markdown",
   "metadata": {
    "colab_type": "text",
    "id": "2qY16YHg51ds"
   },
   "source": [
    "### Creating a Python Dictionary to store Sentence Lengths and their Average BLEU Scores"
   ]
  },
  {
   "cell_type": "code",
   "execution_count": 33,
   "metadata": {
    "colab": {
     "base_uri": "https://localhost:8080/",
     "height": 34
    },
    "colab_type": "code",
    "id": "v3iLgGEmlduE",
    "outputId": "db2f917f-df4b-495e-808f-625ef182b623"
   },
   "outputs": [
    {
     "name": "stderr",
     "output_type": "stream",
     "text": [
      "100%|██████████| 3000/3000 [00:00<00:00, 536310.29it/s]\n"
     ]
    }
   ],
   "source": [
    "new_dict = {}\n",
    "\n",
    "for i in range(60):\n",
    "  new_dict[i] = []\n",
    "\n",
    "for i in tqdm(range(len(sentence_len))):\n",
    "  if sentence_len[i]<60:\n",
    "    new_dict[sentence_len[i]].append(BLEUscore[i])"
   ]
  },
  {
   "cell_type": "code",
   "execution_count": 0,
   "metadata": {
    "colab": {},
    "colab_type": "code",
    "id": "yLvsvgAFoTUW"
   },
   "outputs": [],
   "source": [
    "from statistics import mean\n",
    "\n",
    "for i in range(60):\n",
    "  if(len(new_dict[i])) != 0:\n",
    "    new_dict[i]=mean(new_dict[i])\n",
    "  else:\n",
    "    new_dict[i]=0"
   ]
  },
  {
   "cell_type": "code",
   "execution_count": 0,
   "metadata": {
    "colab": {},
    "colab_type": "code",
    "id": "lUaJ6zzjpaot"
   },
   "outputs": [],
   "source": [
    "avg_bleu = []\n",
    "\n",
    "for i in range(60):\n",
    "  avg_bleu.append(new_dict[i])"
   ]
  },
  {
   "cell_type": "code",
   "execution_count": 36,
   "metadata": {
    "colab": {
     "base_uri": "https://localhost:8080/",
     "height": 54
    },
    "colab_type": "code",
    "id": "OHvliHIJpvNh",
    "outputId": "aaef32ef-2338-48e0-fd8f-0e49ffb2f75f"
   },
   "outputs": [
    {
     "name": "stdout",
     "output_type": "stream",
     "text": [
      "[0, 0, 0, 0.022888810237598853, 0.006315242039465291, 0.07095823636007945, 0.09120032280189663, 0.1178306644741621, 0.13697135999505547, 0.12823803434594194, 0.14604498418797582, 0.16209588693241225, 0.1597845747640274, 0.15014840783829478, 0.15727441093856342, 0.16513167050177788, 0.16048284718331102, 0.17531937302279801, 0.1647159747014756, 0.17556519532235113, 0.15655949460435759, 0.1563774429373111, 0.16327215765629674, 0.1774313687511605, 0.15163709130816366, 0.1584172603127057, 0.14733206279276573, 0.1583206854179062, 0.15772592448019346, 0.15025131716572304, 0.15351740077310286, 0.16208714700190016, 0.1422662336385185, 0.1444968413574848, 0.1457610322486304, 0.15080301666869042, 0.13538837149677568, 0.13580020013482857, 0.14860632992490744, 0.1448863067038223, 0.14190437345224022, 0.13542861260261674, 0.1377979362816128, 0.12404342477295749, 0.1283295413077912, 0.13592935360618913, 0.12145855646900897, 0.10790333810942696, 0.117211361055583, 0.10837432057201969, 0.11447325610245891, 0.09917915697348237, 0.10530563393339659, 0.09226049496714818, 0.10508654625055681, 0.09758021793888091, 0.07570741912011739, 0.10587283179629427, 0.09311021107039381, 0.07199821025361797]\n"
     ]
    }
   ],
   "source": [
    "print(avg_bleu)"
   ]
  },
  {
   "cell_type": "markdown",
   "metadata": {
    "colab_type": "text",
    "id": "de8XE1FTCcEK"
   },
   "source": [
    "## Plotting the Graph"
   ]
  },
  {
   "cell_type": "code",
   "execution_count": 4,
   "metadata": {},
   "outputs": [],
   "source": [
    "updated_score = np.array(avg_bleu)"
   ]
  },
  {
   "cell_type": "code",
   "execution_count": 6,
   "metadata": {},
   "outputs": [
    {
     "data": {
      "application/javascript": [
       "/* Put everything inside the global mpl namespace */\n",
       "window.mpl = {};\n",
       "\n",
       "\n",
       "mpl.get_websocket_type = function() {\n",
       "    if (typeof(WebSocket) !== 'undefined') {\n",
       "        return WebSocket;\n",
       "    } else if (typeof(MozWebSocket) !== 'undefined') {\n",
       "        return MozWebSocket;\n",
       "    } else {\n",
       "        alert('Your browser does not have WebSocket support. ' +\n",
       "              'Please try Chrome, Safari or Firefox ≥ 6. ' +\n",
       "              'Firefox 4 and 5 are also supported but you ' +\n",
       "              'have to enable WebSockets in about:config.');\n",
       "    };\n",
       "}\n",
       "\n",
       "mpl.figure = function(figure_id, websocket, ondownload, parent_element) {\n",
       "    this.id = figure_id;\n",
       "\n",
       "    this.ws = websocket;\n",
       "\n",
       "    this.supports_binary = (this.ws.binaryType != undefined);\n",
       "\n",
       "    if (!this.supports_binary) {\n",
       "        var warnings = document.getElementById(\"mpl-warnings\");\n",
       "        if (warnings) {\n",
       "            warnings.style.display = 'block';\n",
       "            warnings.textContent = (\n",
       "                \"This browser does not support binary websocket messages. \" +\n",
       "                    \"Performance may be slow.\");\n",
       "        }\n",
       "    }\n",
       "\n",
       "    this.imageObj = new Image();\n",
       "\n",
       "    this.context = undefined;\n",
       "    this.message = undefined;\n",
       "    this.canvas = undefined;\n",
       "    this.rubberband_canvas = undefined;\n",
       "    this.rubberband_context = undefined;\n",
       "    this.format_dropdown = undefined;\n",
       "\n",
       "    this.image_mode = 'full';\n",
       "\n",
       "    this.root = $('<div/>');\n",
       "    this._root_extra_style(this.root)\n",
       "    this.root.attr('style', 'display: inline-block');\n",
       "\n",
       "    $(parent_element).append(this.root);\n",
       "\n",
       "    this._init_header(this);\n",
       "    this._init_canvas(this);\n",
       "    this._init_toolbar(this);\n",
       "\n",
       "    var fig = this;\n",
       "\n",
       "    this.waiting = false;\n",
       "\n",
       "    this.ws.onopen =  function () {\n",
       "            fig.send_message(\"supports_binary\", {value: fig.supports_binary});\n",
       "            fig.send_message(\"send_image_mode\", {});\n",
       "            if (mpl.ratio != 1) {\n",
       "                fig.send_message(\"set_dpi_ratio\", {'dpi_ratio': mpl.ratio});\n",
       "            }\n",
       "            fig.send_message(\"refresh\", {});\n",
       "        }\n",
       "\n",
       "    this.imageObj.onload = function() {\n",
       "            if (fig.image_mode == 'full') {\n",
       "                // Full images could contain transparency (where diff images\n",
       "                // almost always do), so we need to clear the canvas so that\n",
       "                // there is no ghosting.\n",
       "                fig.context.clearRect(0, 0, fig.canvas.width, fig.canvas.height);\n",
       "            }\n",
       "            fig.context.drawImage(fig.imageObj, 0, 0);\n",
       "        };\n",
       "\n",
       "    this.imageObj.onunload = function() {\n",
       "        fig.ws.close();\n",
       "    }\n",
       "\n",
       "    this.ws.onmessage = this._make_on_message_function(this);\n",
       "\n",
       "    this.ondownload = ondownload;\n",
       "}\n",
       "\n",
       "mpl.figure.prototype._init_header = function() {\n",
       "    var titlebar = $(\n",
       "        '<div class=\"ui-dialog-titlebar ui-widget-header ui-corner-all ' +\n",
       "        'ui-helper-clearfix\"/>');\n",
       "    var titletext = $(\n",
       "        '<div class=\"ui-dialog-title\" style=\"width: 100%; ' +\n",
       "        'text-align: center; padding: 3px;\"/>');\n",
       "    titlebar.append(titletext)\n",
       "    this.root.append(titlebar);\n",
       "    this.header = titletext[0];\n",
       "}\n",
       "\n",
       "\n",
       "\n",
       "mpl.figure.prototype._canvas_extra_style = function(canvas_div) {\n",
       "\n",
       "}\n",
       "\n",
       "\n",
       "mpl.figure.prototype._root_extra_style = function(canvas_div) {\n",
       "\n",
       "}\n",
       "\n",
       "mpl.figure.prototype._init_canvas = function() {\n",
       "    var fig = this;\n",
       "\n",
       "    var canvas_div = $('<div/>');\n",
       "\n",
       "    canvas_div.attr('style', 'position: relative; clear: both; outline: 0');\n",
       "\n",
       "    function canvas_keyboard_event(event) {\n",
       "        return fig.key_event(event, event['data']);\n",
       "    }\n",
       "\n",
       "    canvas_div.keydown('key_press', canvas_keyboard_event);\n",
       "    canvas_div.keyup('key_release', canvas_keyboard_event);\n",
       "    this.canvas_div = canvas_div\n",
       "    this._canvas_extra_style(canvas_div)\n",
       "    this.root.append(canvas_div);\n",
       "\n",
       "    var canvas = $('<canvas/>');\n",
       "    canvas.addClass('mpl-canvas');\n",
       "    canvas.attr('style', \"left: 0; top: 0; z-index: 0; outline: 0\")\n",
       "\n",
       "    this.canvas = canvas[0];\n",
       "    this.context = canvas[0].getContext(\"2d\");\n",
       "\n",
       "    var backingStore = this.context.backingStorePixelRatio ||\n",
       "\tthis.context.webkitBackingStorePixelRatio ||\n",
       "\tthis.context.mozBackingStorePixelRatio ||\n",
       "\tthis.context.msBackingStorePixelRatio ||\n",
       "\tthis.context.oBackingStorePixelRatio ||\n",
       "\tthis.context.backingStorePixelRatio || 1;\n",
       "\n",
       "    mpl.ratio = (window.devicePixelRatio || 1) / backingStore;\n",
       "\n",
       "    var rubberband = $('<canvas/>');\n",
       "    rubberband.attr('style', \"position: absolute; left: 0; top: 0; z-index: 1;\")\n",
       "\n",
       "    var pass_mouse_events = true;\n",
       "\n",
       "    canvas_div.resizable({\n",
       "        start: function(event, ui) {\n",
       "            pass_mouse_events = false;\n",
       "        },\n",
       "        resize: function(event, ui) {\n",
       "            fig.request_resize(ui.size.width, ui.size.height);\n",
       "        },\n",
       "        stop: function(event, ui) {\n",
       "            pass_mouse_events = true;\n",
       "            fig.request_resize(ui.size.width, ui.size.height);\n",
       "        },\n",
       "    });\n",
       "\n",
       "    function mouse_event_fn(event) {\n",
       "        if (pass_mouse_events)\n",
       "            return fig.mouse_event(event, event['data']);\n",
       "    }\n",
       "\n",
       "    rubberband.mousedown('button_press', mouse_event_fn);\n",
       "    rubberband.mouseup('button_release', mouse_event_fn);\n",
       "    // Throttle sequential mouse events to 1 every 20ms.\n",
       "    rubberband.mousemove('motion_notify', mouse_event_fn);\n",
       "\n",
       "    rubberband.mouseenter('figure_enter', mouse_event_fn);\n",
       "    rubberband.mouseleave('figure_leave', mouse_event_fn);\n",
       "\n",
       "    canvas_div.on(\"wheel\", function (event) {\n",
       "        event = event.originalEvent;\n",
       "        event['data'] = 'scroll'\n",
       "        if (event.deltaY < 0) {\n",
       "            event.step = 1;\n",
       "        } else {\n",
       "            event.step = -1;\n",
       "        }\n",
       "        mouse_event_fn(event);\n",
       "    });\n",
       "\n",
       "    canvas_div.append(canvas);\n",
       "    canvas_div.append(rubberband);\n",
       "\n",
       "    this.rubberband = rubberband;\n",
       "    this.rubberband_canvas = rubberband[0];\n",
       "    this.rubberband_context = rubberband[0].getContext(\"2d\");\n",
       "    this.rubberband_context.strokeStyle = \"#000000\";\n",
       "\n",
       "    this._resize_canvas = function(width, height) {\n",
       "        // Keep the size of the canvas, canvas container, and rubber band\n",
       "        // canvas in synch.\n",
       "        canvas_div.css('width', width)\n",
       "        canvas_div.css('height', height)\n",
       "\n",
       "        canvas.attr('width', width * mpl.ratio);\n",
       "        canvas.attr('height', height * mpl.ratio);\n",
       "        canvas.attr('style', 'width: ' + width + 'px; height: ' + height + 'px;');\n",
       "\n",
       "        rubberband.attr('width', width);\n",
       "        rubberband.attr('height', height);\n",
       "    }\n",
       "\n",
       "    // Set the figure to an initial 600x600px, this will subsequently be updated\n",
       "    // upon first draw.\n",
       "    this._resize_canvas(600, 600);\n",
       "\n",
       "    // Disable right mouse context menu.\n",
       "    $(this.rubberband_canvas).bind(\"contextmenu\",function(e){\n",
       "        return false;\n",
       "    });\n",
       "\n",
       "    function set_focus () {\n",
       "        canvas.focus();\n",
       "        canvas_div.focus();\n",
       "    }\n",
       "\n",
       "    window.setTimeout(set_focus, 100);\n",
       "}\n",
       "\n",
       "mpl.figure.prototype._init_toolbar = function() {\n",
       "    var fig = this;\n",
       "\n",
       "    var nav_element = $('<div/>');\n",
       "    nav_element.attr('style', 'width: 100%');\n",
       "    this.root.append(nav_element);\n",
       "\n",
       "    // Define a callback function for later on.\n",
       "    function toolbar_event(event) {\n",
       "        return fig.toolbar_button_onclick(event['data']);\n",
       "    }\n",
       "    function toolbar_mouse_event(event) {\n",
       "        return fig.toolbar_button_onmouseover(event['data']);\n",
       "    }\n",
       "\n",
       "    for(var toolbar_ind in mpl.toolbar_items) {\n",
       "        var name = mpl.toolbar_items[toolbar_ind][0];\n",
       "        var tooltip = mpl.toolbar_items[toolbar_ind][1];\n",
       "        var image = mpl.toolbar_items[toolbar_ind][2];\n",
       "        var method_name = mpl.toolbar_items[toolbar_ind][3];\n",
       "\n",
       "        if (!name) {\n",
       "            // put a spacer in here.\n",
       "            continue;\n",
       "        }\n",
       "        var button = $('<button/>');\n",
       "        button.addClass('ui-button ui-widget ui-state-default ui-corner-all ' +\n",
       "                        'ui-button-icon-only');\n",
       "        button.attr('role', 'button');\n",
       "        button.attr('aria-disabled', 'false');\n",
       "        button.click(method_name, toolbar_event);\n",
       "        button.mouseover(tooltip, toolbar_mouse_event);\n",
       "\n",
       "        var icon_img = $('<span/>');\n",
       "        icon_img.addClass('ui-button-icon-primary ui-icon');\n",
       "        icon_img.addClass(image);\n",
       "        icon_img.addClass('ui-corner-all');\n",
       "\n",
       "        var tooltip_span = $('<span/>');\n",
       "        tooltip_span.addClass('ui-button-text');\n",
       "        tooltip_span.html(tooltip);\n",
       "\n",
       "        button.append(icon_img);\n",
       "        button.append(tooltip_span);\n",
       "\n",
       "        nav_element.append(button);\n",
       "    }\n",
       "\n",
       "    var fmt_picker_span = $('<span/>');\n",
       "\n",
       "    var fmt_picker = $('<select/>');\n",
       "    fmt_picker.addClass('mpl-toolbar-option ui-widget ui-widget-content');\n",
       "    fmt_picker_span.append(fmt_picker);\n",
       "    nav_element.append(fmt_picker_span);\n",
       "    this.format_dropdown = fmt_picker[0];\n",
       "\n",
       "    for (var ind in mpl.extensions) {\n",
       "        var fmt = mpl.extensions[ind];\n",
       "        var option = $(\n",
       "            '<option/>', {selected: fmt === mpl.default_extension}).html(fmt);\n",
       "        fmt_picker.append(option);\n",
       "    }\n",
       "\n",
       "    // Add hover states to the ui-buttons\n",
       "    $( \".ui-button\" ).hover(\n",
       "        function() { $(this).addClass(\"ui-state-hover\");},\n",
       "        function() { $(this).removeClass(\"ui-state-hover\");}\n",
       "    );\n",
       "\n",
       "    var status_bar = $('<span class=\"mpl-message\"/>');\n",
       "    nav_element.append(status_bar);\n",
       "    this.message = status_bar[0];\n",
       "}\n",
       "\n",
       "mpl.figure.prototype.request_resize = function(x_pixels, y_pixels) {\n",
       "    // Request matplotlib to resize the figure. Matplotlib will then trigger a resize in the client,\n",
       "    // which will in turn request a refresh of the image.\n",
       "    this.send_message('resize', {'width': x_pixels, 'height': y_pixels});\n",
       "}\n",
       "\n",
       "mpl.figure.prototype.send_message = function(type, properties) {\n",
       "    properties['type'] = type;\n",
       "    properties['figure_id'] = this.id;\n",
       "    this.ws.send(JSON.stringify(properties));\n",
       "}\n",
       "\n",
       "mpl.figure.prototype.send_draw_message = function() {\n",
       "    if (!this.waiting) {\n",
       "        this.waiting = true;\n",
       "        this.ws.send(JSON.stringify({type: \"draw\", figure_id: this.id}));\n",
       "    }\n",
       "}\n",
       "\n",
       "\n",
       "mpl.figure.prototype.handle_save = function(fig, msg) {\n",
       "    var format_dropdown = fig.format_dropdown;\n",
       "    var format = format_dropdown.options[format_dropdown.selectedIndex].value;\n",
       "    fig.ondownload(fig, format);\n",
       "}\n",
       "\n",
       "\n",
       "mpl.figure.prototype.handle_resize = function(fig, msg) {\n",
       "    var size = msg['size'];\n",
       "    if (size[0] != fig.canvas.width || size[1] != fig.canvas.height) {\n",
       "        fig._resize_canvas(size[0], size[1]);\n",
       "        fig.send_message(\"refresh\", {});\n",
       "    };\n",
       "}\n",
       "\n",
       "mpl.figure.prototype.handle_rubberband = function(fig, msg) {\n",
       "    var x0 = msg['x0'] / mpl.ratio;\n",
       "    var y0 = (fig.canvas.height - msg['y0']) / mpl.ratio;\n",
       "    var x1 = msg['x1'] / mpl.ratio;\n",
       "    var y1 = (fig.canvas.height - msg['y1']) / mpl.ratio;\n",
       "    x0 = Math.floor(x0) + 0.5;\n",
       "    y0 = Math.floor(y0) + 0.5;\n",
       "    x1 = Math.floor(x1) + 0.5;\n",
       "    y1 = Math.floor(y1) + 0.5;\n",
       "    var min_x = Math.min(x0, x1);\n",
       "    var min_y = Math.min(y0, y1);\n",
       "    var width = Math.abs(x1 - x0);\n",
       "    var height = Math.abs(y1 - y0);\n",
       "\n",
       "    fig.rubberband_context.clearRect(\n",
       "        0, 0, fig.canvas.width / mpl.ratio, fig.canvas.height / mpl.ratio);\n",
       "\n",
       "    fig.rubberband_context.strokeRect(min_x, min_y, width, height);\n",
       "}\n",
       "\n",
       "mpl.figure.prototype.handle_figure_label = function(fig, msg) {\n",
       "    // Updates the figure title.\n",
       "    fig.header.textContent = msg['label'];\n",
       "}\n",
       "\n",
       "mpl.figure.prototype.handle_cursor = function(fig, msg) {\n",
       "    var cursor = msg['cursor'];\n",
       "    switch(cursor)\n",
       "    {\n",
       "    case 0:\n",
       "        cursor = 'pointer';\n",
       "        break;\n",
       "    case 1:\n",
       "        cursor = 'default';\n",
       "        break;\n",
       "    case 2:\n",
       "        cursor = 'crosshair';\n",
       "        break;\n",
       "    case 3:\n",
       "        cursor = 'move';\n",
       "        break;\n",
       "    }\n",
       "    fig.rubberband_canvas.style.cursor = cursor;\n",
       "}\n",
       "\n",
       "mpl.figure.prototype.handle_message = function(fig, msg) {\n",
       "    fig.message.textContent = msg['message'];\n",
       "}\n",
       "\n",
       "mpl.figure.prototype.handle_draw = function(fig, msg) {\n",
       "    // Request the server to send over a new figure.\n",
       "    fig.send_draw_message();\n",
       "}\n",
       "\n",
       "mpl.figure.prototype.handle_image_mode = function(fig, msg) {\n",
       "    fig.image_mode = msg['mode'];\n",
       "}\n",
       "\n",
       "mpl.figure.prototype.updated_canvas_event = function() {\n",
       "    // Called whenever the canvas gets updated.\n",
       "    this.send_message(\"ack\", {});\n",
       "}\n",
       "\n",
       "// A function to construct a web socket function for onmessage handling.\n",
       "// Called in the figure constructor.\n",
       "mpl.figure.prototype._make_on_message_function = function(fig) {\n",
       "    return function socket_on_message(evt) {\n",
       "        if (evt.data instanceof Blob) {\n",
       "            /* FIXME: We get \"Resource interpreted as Image but\n",
       "             * transferred with MIME type text/plain:\" errors on\n",
       "             * Chrome.  But how to set the MIME type?  It doesn't seem\n",
       "             * to be part of the websocket stream */\n",
       "            evt.data.type = \"image/png\";\n",
       "\n",
       "            /* Free the memory for the previous frames */\n",
       "            if (fig.imageObj.src) {\n",
       "                (window.URL || window.webkitURL).revokeObjectURL(\n",
       "                    fig.imageObj.src);\n",
       "            }\n",
       "\n",
       "            fig.imageObj.src = (window.URL || window.webkitURL).createObjectURL(\n",
       "                evt.data);\n",
       "            fig.updated_canvas_event();\n",
       "            fig.waiting = false;\n",
       "            return;\n",
       "        }\n",
       "        else if (typeof evt.data === 'string' && evt.data.slice(0, 21) == \"data:image/png;base64\") {\n",
       "            fig.imageObj.src = evt.data;\n",
       "            fig.updated_canvas_event();\n",
       "            fig.waiting = false;\n",
       "            return;\n",
       "        }\n",
       "\n",
       "        var msg = JSON.parse(evt.data);\n",
       "        var msg_type = msg['type'];\n",
       "\n",
       "        // Call the  \"handle_{type}\" callback, which takes\n",
       "        // the figure and JSON message as its only arguments.\n",
       "        try {\n",
       "            var callback = fig[\"handle_\" + msg_type];\n",
       "        } catch (e) {\n",
       "            console.log(\"No handler for the '\" + msg_type + \"' message type: \", msg);\n",
       "            return;\n",
       "        }\n",
       "\n",
       "        if (callback) {\n",
       "            try {\n",
       "                // console.log(\"Handling '\" + msg_type + \"' message: \", msg);\n",
       "                callback(fig, msg);\n",
       "            } catch (e) {\n",
       "                console.log(\"Exception inside the 'handler_\" + msg_type + \"' callback:\", e, e.stack, msg);\n",
       "            }\n",
       "        }\n",
       "    };\n",
       "}\n",
       "\n",
       "// from http://stackoverflow.com/questions/1114465/getting-mouse-location-in-canvas\n",
       "mpl.findpos = function(e) {\n",
       "    //this section is from http://www.quirksmode.org/js/events_properties.html\n",
       "    var targ;\n",
       "    if (!e)\n",
       "        e = window.event;\n",
       "    if (e.target)\n",
       "        targ = e.target;\n",
       "    else if (e.srcElement)\n",
       "        targ = e.srcElement;\n",
       "    if (targ.nodeType == 3) // defeat Safari bug\n",
       "        targ = targ.parentNode;\n",
       "\n",
       "    // jQuery normalizes the pageX and pageY\n",
       "    // pageX,Y are the mouse positions relative to the document\n",
       "    // offset() returns the position of the element relative to the document\n",
       "    var x = e.pageX - $(targ).offset().left;\n",
       "    var y = e.pageY - $(targ).offset().top;\n",
       "\n",
       "    return {\"x\": x, \"y\": y};\n",
       "};\n",
       "\n",
       "/*\n",
       " * return a copy of an object with only non-object keys\n",
       " * we need this to avoid circular references\n",
       " * http://stackoverflow.com/a/24161582/3208463\n",
       " */\n",
       "function simpleKeys (original) {\n",
       "  return Object.keys(original).reduce(function (obj, key) {\n",
       "    if (typeof original[key] !== 'object')\n",
       "        obj[key] = original[key]\n",
       "    return obj;\n",
       "  }, {});\n",
       "}\n",
       "\n",
       "mpl.figure.prototype.mouse_event = function(event, name) {\n",
       "    var canvas_pos = mpl.findpos(event)\n",
       "\n",
       "    if (name === 'button_press')\n",
       "    {\n",
       "        this.canvas.focus();\n",
       "        this.canvas_div.focus();\n",
       "    }\n",
       "\n",
       "    var x = canvas_pos.x * mpl.ratio;\n",
       "    var y = canvas_pos.y * mpl.ratio;\n",
       "\n",
       "    this.send_message(name, {x: x, y: y, button: event.button,\n",
       "                             step: event.step,\n",
       "                             guiEvent: simpleKeys(event)});\n",
       "\n",
       "    /* This prevents the web browser from automatically changing to\n",
       "     * the text insertion cursor when the button is pressed.  We want\n",
       "     * to control all of the cursor setting manually through the\n",
       "     * 'cursor' event from matplotlib */\n",
       "    event.preventDefault();\n",
       "    return false;\n",
       "}\n",
       "\n",
       "mpl.figure.prototype._key_event_extra = function(event, name) {\n",
       "    // Handle any extra behaviour associated with a key event\n",
       "}\n",
       "\n",
       "mpl.figure.prototype.key_event = function(event, name) {\n",
       "\n",
       "    // Prevent repeat events\n",
       "    if (name == 'key_press')\n",
       "    {\n",
       "        if (event.which === this._key)\n",
       "            return;\n",
       "        else\n",
       "            this._key = event.which;\n",
       "    }\n",
       "    if (name == 'key_release')\n",
       "        this._key = null;\n",
       "\n",
       "    var value = '';\n",
       "    if (event.ctrlKey && event.which != 17)\n",
       "        value += \"ctrl+\";\n",
       "    if (event.altKey && event.which != 18)\n",
       "        value += \"alt+\";\n",
       "    if (event.shiftKey && event.which != 16)\n",
       "        value += \"shift+\";\n",
       "\n",
       "    value += 'k';\n",
       "    value += event.which.toString();\n",
       "\n",
       "    this._key_event_extra(event, name);\n",
       "\n",
       "    this.send_message(name, {key: value,\n",
       "                             guiEvent: simpleKeys(event)});\n",
       "    return false;\n",
       "}\n",
       "\n",
       "mpl.figure.prototype.toolbar_button_onclick = function(name) {\n",
       "    if (name == 'download') {\n",
       "        this.handle_save(this, null);\n",
       "    } else {\n",
       "        this.send_message(\"toolbar_button\", {name: name});\n",
       "    }\n",
       "};\n",
       "\n",
       "mpl.figure.prototype.toolbar_button_onmouseover = function(tooltip) {\n",
       "    this.message.textContent = tooltip;\n",
       "};\n",
       "mpl.toolbar_items = [[\"Home\", \"Reset original view\", \"fa fa-home icon-home\", \"home\"], [\"Back\", \"Back to previous view\", \"fa fa-arrow-left icon-arrow-left\", \"back\"], [\"Forward\", \"Forward to next view\", \"fa fa-arrow-right icon-arrow-right\", \"forward\"], [\"\", \"\", \"\", \"\"], [\"Pan\", \"Pan axes with left mouse, zoom with right\", \"fa fa-arrows icon-move\", \"pan\"], [\"Zoom\", \"Zoom to rectangle\", \"fa fa-square-o icon-check-empty\", \"zoom\"], [\"\", \"\", \"\", \"\"], [\"Download\", \"Download plot\", \"fa fa-floppy-o icon-save\", \"download\"]];\n",
       "\n",
       "mpl.extensions = [\"eps\", \"jpeg\", \"pdf\", \"png\", \"ps\", \"raw\", \"svg\", \"tif\"];\n",
       "\n",
       "mpl.default_extension = \"png\";var comm_websocket_adapter = function(comm) {\n",
       "    // Create a \"websocket\"-like object which calls the given IPython comm\n",
       "    // object with the appropriate methods. Currently this is a non binary\n",
       "    // socket, so there is still some room for performance tuning.\n",
       "    var ws = {};\n",
       "\n",
       "    ws.close = function() {\n",
       "        comm.close()\n",
       "    };\n",
       "    ws.send = function(m) {\n",
       "        //console.log('sending', m);\n",
       "        comm.send(m);\n",
       "    };\n",
       "    // Register the callback with on_msg.\n",
       "    comm.on_msg(function(msg) {\n",
       "        //console.log('receiving', msg['content']['data'], msg);\n",
       "        // Pass the mpl event to the overridden (by mpl) onmessage function.\n",
       "        ws.onmessage(msg['content']['data'])\n",
       "    });\n",
       "    return ws;\n",
       "}\n",
       "\n",
       "mpl.mpl_figure_comm = function(comm, msg) {\n",
       "    // This is the function which gets called when the mpl process\n",
       "    // starts-up an IPython Comm through the \"matplotlib\" channel.\n",
       "\n",
       "    var id = msg.content.data.id;\n",
       "    // Get hold of the div created by the display call when the Comm\n",
       "    // socket was opened in Python.\n",
       "    var element = $(\"#\" + id);\n",
       "    var ws_proxy = comm_websocket_adapter(comm)\n",
       "\n",
       "    function ondownload(figure, format) {\n",
       "        window.open(figure.imageObj.src);\n",
       "    }\n",
       "\n",
       "    var fig = new mpl.figure(id, ws_proxy,\n",
       "                           ondownload,\n",
       "                           element.get(0));\n",
       "\n",
       "    // Call onopen now - mpl needs it, as it is assuming we've passed it a real\n",
       "    // web socket which is closed, not our websocket->open comm proxy.\n",
       "    ws_proxy.onopen();\n",
       "\n",
       "    fig.parent_element = element.get(0);\n",
       "    fig.cell_info = mpl.find_output_cell(\"<div id='\" + id + \"'></div>\");\n",
       "    if (!fig.cell_info) {\n",
       "        console.error(\"Failed to find cell for figure\", id, fig);\n",
       "        return;\n",
       "    }\n",
       "\n",
       "    var output_index = fig.cell_info[2]\n",
       "    var cell = fig.cell_info[0];\n",
       "\n",
       "};\n",
       "\n",
       "mpl.figure.prototype.handle_close = function(fig, msg) {\n",
       "    var width = fig.canvas.width/mpl.ratio\n",
       "    fig.root.unbind('remove')\n",
       "\n",
       "    // Update the output cell to use the data from the current canvas.\n",
       "    fig.push_to_output();\n",
       "    var dataURL = fig.canvas.toDataURL();\n",
       "    // Re-enable the keyboard manager in IPython - without this line, in FF,\n",
       "    // the notebook keyboard shortcuts fail.\n",
       "    IPython.keyboard_manager.enable()\n",
       "    $(fig.parent_element).html('<img src=\"' + dataURL + '\" width=\"' + width + '\">');\n",
       "    fig.close_ws(fig, msg);\n",
       "}\n",
       "\n",
       "mpl.figure.prototype.close_ws = function(fig, msg){\n",
       "    fig.send_message('closing', msg);\n",
       "    // fig.ws.close()\n",
       "}\n",
       "\n",
       "mpl.figure.prototype.push_to_output = function(remove_interactive) {\n",
       "    // Turn the data on the canvas into data in the output cell.\n",
       "    var width = this.canvas.width/mpl.ratio\n",
       "    var dataURL = this.canvas.toDataURL();\n",
       "    this.cell_info[1]['text/html'] = '<img src=\"' + dataURL + '\" width=\"' + width + '\">';\n",
       "}\n",
       "\n",
       "mpl.figure.prototype.updated_canvas_event = function() {\n",
       "    // Tell IPython that the notebook contents must change.\n",
       "    IPython.notebook.set_dirty(true);\n",
       "    this.send_message(\"ack\", {});\n",
       "    var fig = this;\n",
       "    // Wait a second, then push the new image to the DOM so\n",
       "    // that it is saved nicely (might be nice to debounce this).\n",
       "    setTimeout(function () { fig.push_to_output() }, 1000);\n",
       "}\n",
       "\n",
       "mpl.figure.prototype._init_toolbar = function() {\n",
       "    var fig = this;\n",
       "\n",
       "    var nav_element = $('<div/>');\n",
       "    nav_element.attr('style', 'width: 100%');\n",
       "    this.root.append(nav_element);\n",
       "\n",
       "    // Define a callback function for later on.\n",
       "    function toolbar_event(event) {\n",
       "        return fig.toolbar_button_onclick(event['data']);\n",
       "    }\n",
       "    function toolbar_mouse_event(event) {\n",
       "        return fig.toolbar_button_onmouseover(event['data']);\n",
       "    }\n",
       "\n",
       "    for(var toolbar_ind in mpl.toolbar_items){\n",
       "        var name = mpl.toolbar_items[toolbar_ind][0];\n",
       "        var tooltip = mpl.toolbar_items[toolbar_ind][1];\n",
       "        var image = mpl.toolbar_items[toolbar_ind][2];\n",
       "        var method_name = mpl.toolbar_items[toolbar_ind][3];\n",
       "\n",
       "        if (!name) { continue; };\n",
       "\n",
       "        var button = $('<button class=\"btn btn-default\" href=\"#\" title=\"' + name + '\"><i class=\"fa ' + image + ' fa-lg\"></i></button>');\n",
       "        button.click(method_name, toolbar_event);\n",
       "        button.mouseover(tooltip, toolbar_mouse_event);\n",
       "        nav_element.append(button);\n",
       "    }\n",
       "\n",
       "    // Add the status bar.\n",
       "    var status_bar = $('<span class=\"mpl-message\" style=\"text-align:right; float: right;\"/>');\n",
       "    nav_element.append(status_bar);\n",
       "    this.message = status_bar[0];\n",
       "\n",
       "    // Add the close button to the window.\n",
       "    var buttongrp = $('<div class=\"btn-group inline pull-right\"></div>');\n",
       "    var button = $('<button class=\"btn btn-mini btn-primary\" href=\"#\" title=\"Stop Interaction\"><i class=\"fa fa-power-off icon-remove icon-large\"></i></button>');\n",
       "    button.click(function (evt) { fig.handle_close(fig, {}); } );\n",
       "    button.mouseover('Stop Interaction', toolbar_mouse_event);\n",
       "    buttongrp.append(button);\n",
       "    var titlebar = this.root.find($('.ui-dialog-titlebar'));\n",
       "    titlebar.prepend(buttongrp);\n",
       "}\n",
       "\n",
       "mpl.figure.prototype._root_extra_style = function(el){\n",
       "    var fig = this\n",
       "    el.on(\"remove\", function(){\n",
       "\tfig.close_ws(fig, {});\n",
       "    });\n",
       "}\n",
       "\n",
       "mpl.figure.prototype._canvas_extra_style = function(el){\n",
       "    // this is important to make the div 'focusable\n",
       "    el.attr('tabindex', 0)\n",
       "    // reach out to IPython and tell the keyboard manager to turn it's self\n",
       "    // off when our div gets focus\n",
       "\n",
       "    // location in version 3\n",
       "    if (IPython.notebook.keyboard_manager) {\n",
       "        IPython.notebook.keyboard_manager.register_events(el);\n",
       "    }\n",
       "    else {\n",
       "        // location in version 2\n",
       "        IPython.keyboard_manager.register_events(el);\n",
       "    }\n",
       "\n",
       "}\n",
       "\n",
       "mpl.figure.prototype._key_event_extra = function(event, name) {\n",
       "    var manager = IPython.notebook.keyboard_manager;\n",
       "    if (!manager)\n",
       "        manager = IPython.keyboard_manager;\n",
       "\n",
       "    // Check for shift+enter\n",
       "    if (event.shiftKey && event.which == 13) {\n",
       "        this.canvas_div.blur();\n",
       "        // select the cell after this one\n",
       "        var index = IPython.notebook.find_cell_index(this.cell_info[0]);\n",
       "        IPython.notebook.select(index + 1);\n",
       "    }\n",
       "}\n",
       "\n",
       "mpl.figure.prototype.handle_save = function(fig, msg) {\n",
       "    fig.ondownload(fig, null);\n",
       "}\n",
       "\n",
       "\n",
       "mpl.find_output_cell = function(html_output) {\n",
       "    // Return the cell and output element which can be found *uniquely* in the notebook.\n",
       "    // Note - this is a bit hacky, but it is done because the \"notebook_saving.Notebook\"\n",
       "    // IPython event is triggered only after the cells have been serialised, which for\n",
       "    // our purposes (turning an active figure into a static one), is too late.\n",
       "    var cells = IPython.notebook.get_cells();\n",
       "    var ncells = cells.length;\n",
       "    for (var i=0; i<ncells; i++) {\n",
       "        var cell = cells[i];\n",
       "        if (cell.cell_type === 'code'){\n",
       "            for (var j=0; j<cell.output_area.outputs.length; j++) {\n",
       "                var data = cell.output_area.outputs[j];\n",
       "                if (data.data) {\n",
       "                    // IPython >= 3 moved mimebundle to data attribute of output\n",
       "                    data = data.data;\n",
       "                }\n",
       "                if (data['text/html'] == html_output) {\n",
       "                    return [cell, data, j];\n",
       "                }\n",
       "            }\n",
       "        }\n",
       "    }\n",
       "}\n",
       "\n",
       "// Register the function which deals with the matplotlib target/channel.\n",
       "// The kernel may be null if the page has been refreshed.\n",
       "if (IPython.notebook.kernel != null) {\n",
       "    IPython.notebook.kernel.comm_manager.register_target('matplotlib', mpl.mpl_figure_comm);\n",
       "}\n"
      ],
      "text/plain": [
       "<IPython.core.display.Javascript object>"
      ]
     },
     "metadata": {},
     "output_type": "display_data"
    },
    {
     "data": {
      "text/html": [
       "<img src=\"data:image/png;base64,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\" width=\"640\">"
      ],
      "text/plain": [
       "<IPython.core.display.HTML object>"
      ]
     },
     "metadata": {},
     "output_type": "display_data"
    },
    {
     "data": {
      "text/plain": [
       "[<matplotlib.lines.Line2D at 0x1a353126d0>]"
      ]
     },
     "execution_count": 6,
     "metadata": {},
     "output_type": "execute_result"
    }
   ],
   "source": [
    "b = []\n",
    "for i in range(60):\n",
    "    b.append(i)\n",
    "plt.plot(b, updated_score)"
   ]
  },
  {
   "cell_type": "markdown",
   "metadata": {},
   "source": [
    "### Applying a filter to smoothen the Graph obtained"
   ]
  },
  {
   "cell_type": "code",
   "execution_count": 8,
   "metadata": {},
   "outputs": [],
   "source": [
    "yhat = savgol_filter(updated_score, 51, 5)"
   ]
  },
  {
   "cell_type": "code",
   "execution_count": 19,
   "metadata": {},
   "outputs": [],
   "source": [
    "plt.plot(b,yhat)\n",
    "plt.xlabel('Sentence length', fontsize=12)\n",
    "plt.ylabel('BLEU score', fontsize=12)\n",
    "plt.savefig('experimental_graph.png')"
   ]
  },
  {
   "cell_type": "code",
   "execution_count": null,
   "metadata": {},
   "outputs": [],
   "source": []
  }
 ],
 "metadata": {
  "accelerator": "GPU",
  "colab": {
   "collapsed_sections": [],
   "name": "NMT_3200000.ipynb",
   "provenance": []
  },
  "kernelspec": {
   "display_name": "Python 3",
   "language": "python",
   "name": "python3"
  },
  "language_info": {
   "codemirror_mode": {
    "name": "ipython",
    "version": 3
   },
   "file_extension": ".py",
   "mimetype": "text/x-python",
   "name": "python",
   "nbconvert_exporter": "python",
   "pygments_lexer": "ipython3",
   "version": "3.7.6"
  }
 },
 "nbformat": 4,
 "nbformat_minor": 1
}
